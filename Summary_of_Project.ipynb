{
 "cells": [
  {
   "cell_type": "markdown",
   "id": "7a7703ec",
   "metadata": {},
   "source": [
    "## Employee Performance Analysis"
   ]
  },
  {
   "cell_type": "markdown",
   "id": "0b6deefc",
   "metadata": {},
   "source": [
    "## Project Summary\n",
    "\n",
    "**The following insights are expected from this project:**\n",
    "\n",
    "* Department wise performances.\n",
    "* Top 3 Important Factors effecting employee performance.\n",
    "* A trained model which can predict the employee performance based on factors as inputs. This will be used to hire employees\n",
    "* Recommendations to improve the employee performance based on insights from analysis.\n",
    "\n",
    "\n",
    "The given Employee dataset is supervised and categorical. dataset consist of 1200 rows. Total 28 feature(columna) in the data. The shape of the dataset is 1200x28. The 28 features are classified into quantitative and qualitative where 19 features are quantitative (11 columns consists numeric data & 8 columns consists ordinal data) and 8 features are qualitative.The target variable 'Performance Rating' is ordinal.\n",
    "\n",
    "From Correlation we can get the important aspects of the data, Correlation between features and Performance Rating.Correlation is a statistical measure that expresses the extent to which two variables are linearly related.The analysis of the project has gone through the stage of Univariate,Bivariate & Multivariate analysis, correlation analysis and analysis by each department to satisfy the project goal.\n",
    "\n",
    "The dataset consists of Categorical data and Numerical data. The Target variable consist of ordinal data, so this is a classification problem.The multiple machine learning model used in this project  like Logistic Regression, Support Vector Machine, Decision Tree, Random Forest,  K-Nearest Neighbor, XGBoost Classifier and Artificial Neural Network to calculate the accuracy and found out that XGBoost Classifier gives the maximum accuracy of 95%.\n",
    "\n",
    "One of the important goal of this project is to find the important feature affecting the performance rating. The important features were predicted using the machine learning model feature importance technique. The main technique used in the preprocessing data using the Mannual encoding method to convert the categorical data into numerical data, because, Most of machine learning methods are based on numerical methods where strings are not supportive. The overall project was performed and achieved the goals by using the machine learning model and visualization techniques.\n"
   ]
  },
  {
   "cell_type": "markdown",
   "id": "a0b4ba95",
   "metadata": {},
   "source": [
    "#  Analysis\n",
    "Data were analyzed by describing the features present in the data. the features play the bigger part in the analysis. The features tell the relation between the dependent and independent variables. Pandas also help to describe the datasets answering following questions early in our project. The data present in the dataset are divided into numerical and categorical data."
   ]
  },
  {
   "cell_type": "markdown",
   "id": "664f19e5",
   "metadata": {},
   "source": [
    "### Categorical Features\n",
    "* Gender\n",
    "* EducationBackground\n",
    "* MaritalStatus\n",
    "* EmpDepartment\n",
    "* EmpJobRole\n",
    "* BusinessTravelFrequency\n",
    "* OverTime\n",
    "* Attrition\n",
    "\n",
    "### Numerical Features\n",
    "* EmpNumber\n",
    "* Age\n",
    "* DistanceFromHome\n",
    "* EmpHourlyRate\n",
    "* NumCompaniesWorked\n",
    "* EmpLastSalaryHikePercent\n",
    "* TotalWorkExperienceInYears\n",
    "* TrainingTimesLastYear\n",
    "* ExperienceYearsAtThisCompany\n",
    "* ExperienceYearsInCurrentRole\n",
    "* YearsSinceLastPromotion\n",
    "* YearsWithCurrManager\n",
    "\n",
    "### Ordinal Features\n",
    "* EmpEducationLevel\n",
    "* EmpEnvironmentSatisfaction\n",
    "* EmpJobInvolvement\n",
    "* EmpJobLevel\n",
    "* EmpJobSatisfaction\n",
    "* EmpRelationshipSatisfaction\n",
    "* EmpWorkLifeBalance\n",
    "* PerformanceRating"
   ]
  },
  {
   "cell_type": "markdown",
   "id": "28d558f0",
   "metadata": {},
   "source": [
    "# Explotary Data Analysis"
   ]
  },
  {
   "cell_type": "markdown",
   "id": "8071a82d",
   "metadata": {},
   "source": [
    "### Basic Check & Statistical Measures\n",
    "* Statistic summary of numerical features\n",
    "* Statistic summary of categorical features\n",
    "* All Observation written below statistic summary"
   ]
  },
  {
   "cell_type": "markdown",
   "id": "88b7cfa6",
   "metadata": {},
   "source": [
    "## Univariate, Bivariate & Multivariate Analysis\n",
    "\n",
    "* Library Used: Matplotlib & Seaborn\n",
    "* Plots Used: Histplot, Lineplot, CountPlot, Barplot, boxplot, mosaic plot\n",
    "* Tip: All Observation or insights written below the plots\n",
    "\n",
    "**Univariate Analysis:** In univariate analysis we get the unique labels of categorical features, as well as get the range & density of numbers.\n",
    "\n",
    "**Bivariate Analysis:** In bivariate analysis we check the feature relationship with target veriable.\n",
    "\n",
    "**Multivariate Analysis:** In multivariate Analysis check the relationship between two veriable with respect to the target veriable.\n",
    "\n",
    "\n",
    "#### CONCLUSION\n",
    "* There are some features are positively correlated with performance rating( Target variable)\n",
    "[Emp Environment Satisfaction,Emp Last Salary Hike Percent,Emp Work Life Balance]"
   ]
  },
  {
   "cell_type": "markdown",
   "id": "1900b45e",
   "metadata": {},
   "source": [
    "# Data Pre-Processing\n",
    "**1.Check Missing Value:** Their is no missing value in data\n",
    "\n",
    "**2.Categorical Data Conversion:** Handel categorical data with the help of frequency and mannual encoding, because feature is contain lot's of labels\n",
    "\n",
    "* Mannual Encoding: Mannual encoding is a best techinque to handel categorical feature with the help of map function, map the labels based on frequency.\n",
    "\n",
    "* Frequency Encoding: Frequency encoding is an encoding technique to transform an original categorical variable to a numerical variable by considering the frequency distribution of the data getting value counts.\n",
    "\n",
    "**3.Outlier Handling** Some features are contain outliers so we are impute this outlier with the help of IQR because in all features data is not normally distributed\n",
    "\n",
    "**4.Feature Transformation:** In YearsSinceLastPromotion hove skeweness, so we are use log Transformation techinque\n",
    "\n",
    "* The log transformation is, the most popular among the different types of transformations used to transform skewed data to approximately conform to normality.\n",
    "* Q-Q Plot: Q–Q plot is a probability plot, a graphical method for comparing two probability distributions by plotting their quantiles against each other.\n",
    "\n",
    "**5.Scaling The Data:** scaling the data with the help of Standard scalar\n",
    "* Standard Scaling: Standardization is the process of scaling the feature, it assumes the feature follow  normal distribution and scale the feature between mean and standard deviation, here mean is 0 and standard deviation is always 1.\n",
    "\n"
   ]
  },
  {
   "cell_type": "markdown",
   "id": "03e23b2e",
   "metadata": {},
   "source": [
    "# Feature Selection\n",
    "**1.Drop unique and constant feature:** Dropping Years Since Last Promotion because we create a new feaure using square root transformation\n",
    "\n",
    "**2.Checking Correlation:** Checking correlation with the help of heat map, and get the their is no highly correlated feature is present.\n",
    "* Heatmap: A heatmap is a graphical representation of data that uses a system of color-coding to represent different values. here we get most important features selectd were Department, Job Role, Environment Satisfaction, Last Salary Hike Percent, Work Life Balance, Experience Years At This Company, Experience Years In Current Role, Years Since Last Promotion, Years With Current Manager. These were selected because their correlation coeffecient with Performance Rating was more than 0.1.\n",
    "\n",
    "**3.PCA:** PCA was used, it resulted in decline of accuracy.\n",
    "\n",
    "**4.Saving Pre-Process Data:** save the all preprocess data in new file and add target feature to it."
   ]
  },
  {
   "cell_type": "markdown",
   "id": "bb340a0c",
   "metadata": {},
   "source": [
    "# Machine learning Model Creation & Evaluation\n",
    "**1.Define Dependant and Independant Features:**\n",
    "\n",
    "**2.Balancing the data:** The data is imbalance, so we need to balance the data with the help of SMOTE\n",
    "* SMOTE: SMOTE (synthetic minority oversampling technique) is one of the most commonly used oversampling methods to solve the imbalance problem. It aims to balance class distribution by randomly increasing minority class examples by replicating them. SMOTE synthesises new minority instances between existing minority instances.\n",
    "\n",
    "**3.Splitting Training And Testing Data:** 80% data use for training & 20% data used for testing\n",
    "\n",
    "\n",
    "### Algorithm:\n",
    "\n",
    "######  Here we use this Algorithm\n",
    "1. Logistic Regression\n",
    "2. K-Nearest Neighbor\n",
    "3. Support Vector Machine\n",
    "4. Decision Tree\n",
    "5. Random Forest\n",
    "6. Xg Boost Classifier\n",
    "7. Artificial Neural Network [MLP Classifier]\n",
    "\n",
    "* We  use this algorithm Logistic Regression, Support Vector Machine, Decision Tree, Random Forest,  K-Nearest Neighbor, XGBoost Classifier and Artificial Neural Network and calculate the accuracy \n",
    "* And we found out that XGBoost Classifier gives the maximum accuracy of 95%."
   ]
  },
  {
   "cell_type": "markdown",
   "id": "f239c4c0",
   "metadata": {},
   "source": [
    "# Saving Model\n",
    "* Save model with the help of pickle file"
   ]
  },
  {
   "cell_type": "markdown",
   "id": "09b89f10",
   "metadata": {},
   "source": [
    "# Insights that are expected from this project."
   ]
  },
  {
   "cell_type": "markdown",
   "id": "93e35ee1",
   "metadata": {},
   "source": [
    "# 1. Department Wise Performances\n",
    "**PLOT USED**\n",
    "* CountPlot: countplot is used to Show the counts of observations in each categorical bin using bars.\n",
    "* BarPlot:  Barplot of avearage performance rating by Emp Department\n",
    "* MosaicPlot:  A mosaic plot is a graphical representation of data from two or more qualitative variables.The plot is a graphical representation of a contingency table.\n",
    "\n",
    "\n",
    "**Data Science:** Employees of Data science department have second highest average performance rating. Data science is the only department where very few(which is 1) employee get 2 performance rating. The overall performance is higher compared to all departments.\n",
    "\n",
    "**Development:** Development department employees have highest average performance rating compare to other departments. The maximum employees of development department have 3 performance rating. \n",
    "\n",
    "**Finance:** Here we can clearly see that employees of finance department have more 2 performance rating compare to others. Already there are less employees in Finance department and their performance is also less, that's why there performance rating is less then other deparments. \n",
    "\n",
    "**Human Resources:** The majority of the employees have 3 performance rating. Human resources employees are also have good average performance rating of 2.92.\n",
    "\n",
    "**Research & Development:** Employees of R&D dpeartment have moderate performance rating, like they have high performance rating and also they have slightly more low(means 2) performance rating.\n",
    "\n",
    "**Sales:** Most employees of sales department get 3 performance rating, also 87 employees get 2 performance rating which is second last low performance after Finance."
   ]
  },
  {
   "cell_type": "markdown",
   "id": "dbeda989",
   "metadata": {},
   "source": [
    "# 2. Top 3 Important Factors effecting employee performance\n",
    "\n",
    "* The features that are positively correlated are Environment Satisfaction, Last Salary Hike Percent & Worklife Balance. This means that if these factors increases, Performance Rating will increase. \n",
    "\n",
    "* On the other hand, the features that are negatively correlated are Years Since Last Promotion, Experience Years at this Company, Experience years in Current Role & Years with Current Manager. This means that if these factors increases, Performance Rating will go down.\n",
    "\n",
    "The top three important features affecting the performance rating are \n",
    "1. Employee Environment Satisfaction \n",
    "2. Employee Last Salary Hike Percent \n",
    "3. Years since last promotion "
   ]
  },
  {
   "cell_type": "markdown",
   "id": "a43b1910",
   "metadata": {},
   "source": [
    "# 3. A Trained model which can predict the employee performance\n",
    "The trained model is created using the machine learning algorithm as follows with the accuracy score,\n",
    "1. Logistic Regression: 79.61% accuracy\n",
    "2. K-Nearest Neighbor: 91.23% accuracy\n",
    "3. Support Vector Classifier: 88.95% accuracy\n",
    "4. Decision Tree: 89.90% accuracy\n",
    "5. Random Forest classifier: 93.71% accuracy\n",
    "6. XGBoost Classifier: 95.42% accuracy\n",
    "7. Artifical Neural Network [Multilayer percepton]: 90.66% accuracy"
   ]
  },
  {
   "cell_type": "markdown",
   "id": "492abf9c",
   "metadata": {},
   "source": [
    "# 4. Recommendations to improve the employee performance\n",
    "1. We can conclude that the company should provide a better environment as it increases the performance drastically.\n",
    "2. The company should increase the salary of the employee from time to time, There are more employees whose salary is not increases that's why there performace is low.\n",
    "3. shuffling the manager from time to time will also increase employees performance.\n",
    "4. Help Employee's maitain a work-life balance, this affects the performance rating.\n",
    "5. Give promotions to employee,because those employees who not get promotion since many years, there performace is decreases."
   ]
  },
  {
   "cell_type": "code",
   "execution_count": null,
   "id": "fc93cb1d",
   "metadata": {},
   "outputs": [],
   "source": []
  }
 ],
 "metadata": {
  "kernelspec": {
   "display_name": "Python 3 (ipykernel)",
   "language": "python",
   "name": "python3"
  },
  "language_info": {
   "codemirror_mode": {
    "name": "ipython",
    "version": 3
   },
   "file_extension": ".py",
   "mimetype": "text/x-python",
   "name": "python",
   "nbconvert_exporter": "python",
   "pygments_lexer": "ipython3",
   "version": "3.9.12"
  }
 },
 "nbformat": 4,
 "nbformat_minor": 5
}

{
 "cells": [
  {
   "cell_type": "markdown",
   "id": "43a69594",
   "metadata": {},
   "source": [
    "## Model Creation and Evaluation"
   ]
  },
  {
   "cell_type": "markdown",
   "id": "876ecdd0",
   "metadata": {},
   "source": [
    "### Importing necessary libraries"
   ]
  },
  {
   "cell_type": "code",
   "execution_count": 1,
   "id": "d52d4884",
   "metadata": {},
   "outputs": [],
   "source": [
    "import pandas as pd\n",
    "import numpy as np\n",
    "from scipy import stats\n",
    "\n",
    "import warnings # Used to supressed the warnings\n",
    "warnings.filterwarnings('ignore')"
   ]
  },
  {
   "cell_type": "markdown",
   "id": "42f4de7c",
   "metadata": {},
   "source": [
    "### Loading pre-processed data"
   ]
  },
  {
   "cell_type": "code",
   "execution_count": 2,
   "id": "c8198b79",
   "metadata": {},
   "outputs": [
    {
     "data": {
      "text/html": [
       "<div>\n",
       "<style scoped>\n",
       "    .dataframe tbody tr th:only-of-type {\n",
       "        vertical-align: middle;\n",
       "    }\n",
       "\n",
       "    .dataframe tbody tr th {\n",
       "        vertical-align: top;\n",
       "    }\n",
       "\n",
       "    .dataframe thead th {\n",
       "        text-align: right;\n",
       "    }\n",
       "</style>\n",
       "<table border=\"1\" class=\"dataframe\">\n",
       "  <thead>\n",
       "    <tr style=\"text-align: right;\">\n",
       "      <th></th>\n",
       "      <th>Unnamed: 0</th>\n",
       "      <th>EmpDepartment</th>\n",
       "      <th>EmpJobRole</th>\n",
       "      <th>EmpEnvironmentSatisfaction</th>\n",
       "      <th>EmpLastSalaryHikePercent</th>\n",
       "      <th>EmpWorkLifeBalance</th>\n",
       "      <th>ExperienceYearsAtThisCompany</th>\n",
       "      <th>ExperienceYearsInCurrentRole</th>\n",
       "      <th>log_YearsSinceLastPromotion</th>\n",
       "      <th>YearsWithCurrManager</th>\n",
       "      <th>PerformanceRating</th>\n",
       "    </tr>\n",
       "  </thead>\n",
       "  <tbody>\n",
       "    <tr>\n",
       "      <th>0</th>\n",
       "      <td>0</td>\n",
       "      <td>5</td>\n",
       "      <td>18</td>\n",
       "      <td>4</td>\n",
       "      <td>-0.889111</td>\n",
       "      <td>2</td>\n",
       "      <td>0.868276</td>\n",
       "      <td>0.864098</td>\n",
       "      <td>-1.012816</td>\n",
       "      <td>1.202103</td>\n",
       "      <td>3</td>\n",
       "    </tr>\n",
       "    <tr>\n",
       "      <th>1</th>\n",
       "      <td>1</td>\n",
       "      <td>5</td>\n",
       "      <td>18</td>\n",
       "      <td>4</td>\n",
       "      <td>-0.889111</td>\n",
       "      <td>3</td>\n",
       "      <td>0.200371</td>\n",
       "      <td>0.864098</td>\n",
       "      <td>0.050319</td>\n",
       "      <td>0.902825</td>\n",
       "      <td>3</td>\n",
       "    </tr>\n",
       "    <tr>\n",
       "      <th>2</th>\n",
       "      <td>2</td>\n",
       "      <td>5</td>\n",
       "      <td>18</td>\n",
       "      <td>4</td>\n",
       "      <td>1.594054</td>\n",
       "      <td>3</td>\n",
       "      <td>2.649355</td>\n",
       "      <td>2.661702</td>\n",
       "      <td>0.050319</td>\n",
       "      <td>2.399219</td>\n",
       "      <td>4</td>\n",
       "    </tr>\n",
       "    <tr>\n",
       "      <th>3</th>\n",
       "      <td>3</td>\n",
       "      <td>2</td>\n",
       "      <td>11</td>\n",
       "      <td>2</td>\n",
       "      <td>-0.061389</td>\n",
       "      <td>2</td>\n",
       "      <td>-0.244898</td>\n",
       "      <td>0.564498</td>\n",
       "      <td>0.050319</td>\n",
       "      <td>0.603546</td>\n",
       "      <td>3</td>\n",
       "    </tr>\n",
       "    <tr>\n",
       "      <th>4</th>\n",
       "      <td>4</td>\n",
       "      <td>5</td>\n",
       "      <td>18</td>\n",
       "      <td>1</td>\n",
       "      <td>-0.337297</td>\n",
       "      <td>3</td>\n",
       "      <td>-0.912803</td>\n",
       "      <td>-0.633905</td>\n",
       "      <td>0.672213</td>\n",
       "      <td>-0.593570</td>\n",
       "      <td>3</td>\n",
       "    </tr>\n",
       "  </tbody>\n",
       "</table>\n",
       "</div>"
      ],
      "text/plain": [
       "   Unnamed: 0  EmpDepartment  EmpJobRole  EmpEnvironmentSatisfaction  \\\n",
       "0           0              5          18                           4   \n",
       "1           1              5          18                           4   \n",
       "2           2              5          18                           4   \n",
       "3           3              2          11                           2   \n",
       "4           4              5          18                           1   \n",
       "\n",
       "   EmpLastSalaryHikePercent  EmpWorkLifeBalance  ExperienceYearsAtThisCompany  \\\n",
       "0                 -0.889111                   2                      0.868276   \n",
       "1                 -0.889111                   3                      0.200371   \n",
       "2                  1.594054                   3                      2.649355   \n",
       "3                 -0.061389                   2                     -0.244898   \n",
       "4                 -0.337297                   3                     -0.912803   \n",
       "\n",
       "   ExperienceYearsInCurrentRole  log_YearsSinceLastPromotion  \\\n",
       "0                      0.864098                    -1.012816   \n",
       "1                      0.864098                     0.050319   \n",
       "2                      2.661702                     0.050319   \n",
       "3                      0.564498                     0.050319   \n",
       "4                     -0.633905                     0.672213   \n",
       "\n",
       "   YearsWithCurrManager  PerformanceRating  \n",
       "0              1.202103                  3  \n",
       "1              0.902825                  3  \n",
       "2              2.399219                  4  \n",
       "3              0.603546                  3  \n",
       "4             -0.593570                  3  "
      ]
     },
     "execution_count": 2,
     "metadata": {},
     "output_type": "execute_result"
    }
   ],
   "source": [
    "df = pd.read_csv('employee_performance_analysis_preprocessed_data.csv')\n",
    "df.head()"
   ]
  },
  {
   "cell_type": "code",
   "execution_count": 3,
   "id": "5efe3294",
   "metadata": {},
   "outputs": [
    {
     "data": {
      "text/html": [
       "<div>\n",
       "<style scoped>\n",
       "    .dataframe tbody tr th:only-of-type {\n",
       "        vertical-align: middle;\n",
       "    }\n",
       "\n",
       "    .dataframe tbody tr th {\n",
       "        vertical-align: top;\n",
       "    }\n",
       "\n",
       "    .dataframe thead th {\n",
       "        text-align: right;\n",
       "    }\n",
       "</style>\n",
       "<table border=\"1\" class=\"dataframe\">\n",
       "  <thead>\n",
       "    <tr style=\"text-align: right;\">\n",
       "      <th></th>\n",
       "      <th>EmpDepartment</th>\n",
       "      <th>EmpJobRole</th>\n",
       "      <th>EmpEnvironmentSatisfaction</th>\n",
       "      <th>EmpLastSalaryHikePercent</th>\n",
       "      <th>EmpWorkLifeBalance</th>\n",
       "      <th>ExperienceYearsAtThisCompany</th>\n",
       "      <th>ExperienceYearsInCurrentRole</th>\n",
       "      <th>log_YearsSinceLastPromotion</th>\n",
       "      <th>YearsWithCurrManager</th>\n",
       "      <th>PerformanceRating</th>\n",
       "    </tr>\n",
       "  </thead>\n",
       "  <tbody>\n",
       "    <tr>\n",
       "      <th>0</th>\n",
       "      <td>5</td>\n",
       "      <td>18</td>\n",
       "      <td>4</td>\n",
       "      <td>-0.889111</td>\n",
       "      <td>2</td>\n",
       "      <td>0.868276</td>\n",
       "      <td>0.864098</td>\n",
       "      <td>-1.012816</td>\n",
       "      <td>1.202103</td>\n",
       "      <td>3</td>\n",
       "    </tr>\n",
       "    <tr>\n",
       "      <th>1</th>\n",
       "      <td>5</td>\n",
       "      <td>18</td>\n",
       "      <td>4</td>\n",
       "      <td>-0.889111</td>\n",
       "      <td>3</td>\n",
       "      <td>0.200371</td>\n",
       "      <td>0.864098</td>\n",
       "      <td>0.050319</td>\n",
       "      <td>0.902825</td>\n",
       "      <td>3</td>\n",
       "    </tr>\n",
       "    <tr>\n",
       "      <th>2</th>\n",
       "      <td>5</td>\n",
       "      <td>18</td>\n",
       "      <td>4</td>\n",
       "      <td>1.594054</td>\n",
       "      <td>3</td>\n",
       "      <td>2.649355</td>\n",
       "      <td>2.661702</td>\n",
       "      <td>0.050319</td>\n",
       "      <td>2.399219</td>\n",
       "      <td>4</td>\n",
       "    </tr>\n",
       "    <tr>\n",
       "      <th>3</th>\n",
       "      <td>2</td>\n",
       "      <td>11</td>\n",
       "      <td>2</td>\n",
       "      <td>-0.061389</td>\n",
       "      <td>2</td>\n",
       "      <td>-0.244898</td>\n",
       "      <td>0.564498</td>\n",
       "      <td>0.050319</td>\n",
       "      <td>0.603546</td>\n",
       "      <td>3</td>\n",
       "    </tr>\n",
       "    <tr>\n",
       "      <th>4</th>\n",
       "      <td>5</td>\n",
       "      <td>18</td>\n",
       "      <td>1</td>\n",
       "      <td>-0.337297</td>\n",
       "      <td>3</td>\n",
       "      <td>-0.912803</td>\n",
       "      <td>-0.633905</td>\n",
       "      <td>0.672213</td>\n",
       "      <td>-0.593570</td>\n",
       "      <td>3</td>\n",
       "    </tr>\n",
       "  </tbody>\n",
       "</table>\n",
       "</div>"
      ],
      "text/plain": [
       "   EmpDepartment  EmpJobRole  EmpEnvironmentSatisfaction  \\\n",
       "0              5          18                           4   \n",
       "1              5          18                           4   \n",
       "2              5          18                           4   \n",
       "3              2          11                           2   \n",
       "4              5          18                           1   \n",
       "\n",
       "   EmpLastSalaryHikePercent  EmpWorkLifeBalance  ExperienceYearsAtThisCompany  \\\n",
       "0                 -0.889111                   2                      0.868276   \n",
       "1                 -0.889111                   3                      0.200371   \n",
       "2                  1.594054                   3                      2.649355   \n",
       "3                 -0.061389                   2                     -0.244898   \n",
       "4                 -0.337297                   3                     -0.912803   \n",
       "\n",
       "   ExperienceYearsInCurrentRole  log_YearsSinceLastPromotion  \\\n",
       "0                      0.864098                    -1.012816   \n",
       "1                      0.864098                     0.050319   \n",
       "2                      2.661702                     0.050319   \n",
       "3                      0.564498                     0.050319   \n",
       "4                     -0.633905                     0.672213   \n",
       "\n",
       "   YearsWithCurrManager  PerformanceRating  \n",
       "0              1.202103                  3  \n",
       "1              0.902825                  3  \n",
       "2              2.399219                  4  \n",
       "3              0.603546                  3  \n",
       "4             -0.593570                  3  "
      ]
     },
     "execution_count": 3,
     "metadata": {},
     "output_type": "execute_result"
    }
   ],
   "source": [
    "df.drop('Unnamed: 0',axis=1,inplace=True) # Droping unwanted feature\n",
    "df.head()"
   ]
  },
  {
   "cell_type": "markdown",
   "id": "1eaa191b",
   "metadata": {},
   "source": [
    "## Defining Independent and Dependent Feature"
   ]
  },
  {
   "cell_type": "code",
   "execution_count": 4,
   "id": "3ad1ac76",
   "metadata": {},
   "outputs": [],
   "source": [
    "X = df.drop(columns=['PerformanceRating'])\n",
    "y = df.PerformanceRating"
   ]
  },
  {
   "cell_type": "code",
   "execution_count": 5,
   "id": "27c4059c",
   "metadata": {},
   "outputs": [
    {
     "data": {
      "text/html": [
       "<div>\n",
       "<style scoped>\n",
       "    .dataframe tbody tr th:only-of-type {\n",
       "        vertical-align: middle;\n",
       "    }\n",
       "\n",
       "    .dataframe tbody tr th {\n",
       "        vertical-align: top;\n",
       "    }\n",
       "\n",
       "    .dataframe thead th {\n",
       "        text-align: right;\n",
       "    }\n",
       "</style>\n",
       "<table border=\"1\" class=\"dataframe\">\n",
       "  <thead>\n",
       "    <tr style=\"text-align: right;\">\n",
       "      <th></th>\n",
       "      <th>EmpDepartment</th>\n",
       "      <th>EmpJobRole</th>\n",
       "      <th>EmpEnvironmentSatisfaction</th>\n",
       "      <th>EmpLastSalaryHikePercent</th>\n",
       "      <th>EmpWorkLifeBalance</th>\n",
       "      <th>ExperienceYearsAtThisCompany</th>\n",
       "      <th>ExperienceYearsInCurrentRole</th>\n",
       "      <th>log_YearsSinceLastPromotion</th>\n",
       "      <th>YearsWithCurrManager</th>\n",
       "    </tr>\n",
       "  </thead>\n",
       "  <tbody>\n",
       "    <tr>\n",
       "      <th>0</th>\n",
       "      <td>5</td>\n",
       "      <td>18</td>\n",
       "      <td>4</td>\n",
       "      <td>-0.889111</td>\n",
       "      <td>2</td>\n",
       "      <td>0.868276</td>\n",
       "      <td>0.864098</td>\n",
       "      <td>-1.012816</td>\n",
       "      <td>1.202103</td>\n",
       "    </tr>\n",
       "    <tr>\n",
       "      <th>1</th>\n",
       "      <td>5</td>\n",
       "      <td>18</td>\n",
       "      <td>4</td>\n",
       "      <td>-0.889111</td>\n",
       "      <td>3</td>\n",
       "      <td>0.200371</td>\n",
       "      <td>0.864098</td>\n",
       "      <td>0.050319</td>\n",
       "      <td>0.902825</td>\n",
       "    </tr>\n",
       "    <tr>\n",
       "      <th>2</th>\n",
       "      <td>5</td>\n",
       "      <td>18</td>\n",
       "      <td>4</td>\n",
       "      <td>1.594054</td>\n",
       "      <td>3</td>\n",
       "      <td>2.649355</td>\n",
       "      <td>2.661702</td>\n",
       "      <td>0.050319</td>\n",
       "      <td>2.399219</td>\n",
       "    </tr>\n",
       "    <tr>\n",
       "      <th>3</th>\n",
       "      <td>2</td>\n",
       "      <td>11</td>\n",
       "      <td>2</td>\n",
       "      <td>-0.061389</td>\n",
       "      <td>2</td>\n",
       "      <td>-0.244898</td>\n",
       "      <td>0.564498</td>\n",
       "      <td>0.050319</td>\n",
       "      <td>0.603546</td>\n",
       "    </tr>\n",
       "    <tr>\n",
       "      <th>4</th>\n",
       "      <td>5</td>\n",
       "      <td>18</td>\n",
       "      <td>1</td>\n",
       "      <td>-0.337297</td>\n",
       "      <td>3</td>\n",
       "      <td>-0.912803</td>\n",
       "      <td>-0.633905</td>\n",
       "      <td>0.672213</td>\n",
       "      <td>-0.593570</td>\n",
       "    </tr>\n",
       "    <tr>\n",
       "      <th>...</th>\n",
       "      <td>...</td>\n",
       "      <td>...</td>\n",
       "      <td>...</td>\n",
       "      <td>...</td>\n",
       "      <td>...</td>\n",
       "      <td>...</td>\n",
       "      <td>...</td>\n",
       "      <td>...</td>\n",
       "      <td>...</td>\n",
       "    </tr>\n",
       "    <tr>\n",
       "      <th>1195</th>\n",
       "      <td>5</td>\n",
       "      <td>18</td>\n",
       "      <td>4</td>\n",
       "      <td>1.318147</td>\n",
       "      <td>3</td>\n",
       "      <td>-0.022263</td>\n",
       "      <td>0.264897</td>\n",
       "      <td>-1.012816</td>\n",
       "      <td>0.004988</td>\n",
       "    </tr>\n",
       "    <tr>\n",
       "      <th>1196</th>\n",
       "      <td>4</td>\n",
       "      <td>12</td>\n",
       "      <td>4</td>\n",
       "      <td>0.490425</td>\n",
       "      <td>3</td>\n",
       "      <td>-1.135438</td>\n",
       "      <td>-1.233106</td>\n",
       "      <td>-1.012816</td>\n",
       "      <td>-1.192127</td>\n",
       "    </tr>\n",
       "    <tr>\n",
       "      <th>1197</th>\n",
       "      <td>4</td>\n",
       "      <td>12</td>\n",
       "      <td>4</td>\n",
       "      <td>-1.165018</td>\n",
       "      <td>3</td>\n",
       "      <td>3.094625</td>\n",
       "      <td>1.163699</td>\n",
       "      <td>1.113454</td>\n",
       "      <td>1.202103</td>\n",
       "    </tr>\n",
       "    <tr>\n",
       "      <th>1198</th>\n",
       "      <td>0</td>\n",
       "      <td>5</td>\n",
       "      <td>4</td>\n",
       "      <td>-0.337297</td>\n",
       "      <td>4</td>\n",
       "      <td>0.423006</td>\n",
       "      <td>0.864098</td>\n",
       "      <td>2.176589</td>\n",
       "      <td>0.902825</td>\n",
       "    </tr>\n",
       "    <tr>\n",
       "      <th>1199</th>\n",
       "      <td>5</td>\n",
       "      <td>18</td>\n",
       "      <td>1</td>\n",
       "      <td>-0.337297</td>\n",
       "      <td>3</td>\n",
       "      <td>-0.912803</td>\n",
       "      <td>-0.633905</td>\n",
       "      <td>0.672213</td>\n",
       "      <td>-1.192127</td>\n",
       "    </tr>\n",
       "  </tbody>\n",
       "</table>\n",
       "<p>1200 rows × 9 columns</p>\n",
       "</div>"
      ],
      "text/plain": [
       "      EmpDepartment  EmpJobRole  EmpEnvironmentSatisfaction  \\\n",
       "0                 5          18                           4   \n",
       "1                 5          18                           4   \n",
       "2                 5          18                           4   \n",
       "3                 2          11                           2   \n",
       "4                 5          18                           1   \n",
       "...             ...         ...                         ...   \n",
       "1195              5          18                           4   \n",
       "1196              4          12                           4   \n",
       "1197              4          12                           4   \n",
       "1198              0           5                           4   \n",
       "1199              5          18                           1   \n",
       "\n",
       "      EmpLastSalaryHikePercent  EmpWorkLifeBalance  \\\n",
       "0                    -0.889111                   2   \n",
       "1                    -0.889111                   3   \n",
       "2                     1.594054                   3   \n",
       "3                    -0.061389                   2   \n",
       "4                    -0.337297                   3   \n",
       "...                        ...                 ...   \n",
       "1195                  1.318147                   3   \n",
       "1196                  0.490425                   3   \n",
       "1197                 -1.165018                   3   \n",
       "1198                 -0.337297                   4   \n",
       "1199                 -0.337297                   3   \n",
       "\n",
       "      ExperienceYearsAtThisCompany  ExperienceYearsInCurrentRole  \\\n",
       "0                         0.868276                      0.864098   \n",
       "1                         0.200371                      0.864098   \n",
       "2                         2.649355                      2.661702   \n",
       "3                        -0.244898                      0.564498   \n",
       "4                        -0.912803                     -0.633905   \n",
       "...                            ...                           ...   \n",
       "1195                     -0.022263                      0.264897   \n",
       "1196                     -1.135438                     -1.233106   \n",
       "1197                      3.094625                      1.163699   \n",
       "1198                      0.423006                      0.864098   \n",
       "1199                     -0.912803                     -0.633905   \n",
       "\n",
       "      log_YearsSinceLastPromotion  YearsWithCurrManager  \n",
       "0                       -1.012816              1.202103  \n",
       "1                        0.050319              0.902825  \n",
       "2                        0.050319              2.399219  \n",
       "3                        0.050319              0.603546  \n",
       "4                        0.672213             -0.593570  \n",
       "...                           ...                   ...  \n",
       "1195                    -1.012816              0.004988  \n",
       "1196                    -1.012816             -1.192127  \n",
       "1197                     1.113454              1.202103  \n",
       "1198                     2.176589              0.902825  \n",
       "1199                     0.672213             -1.192127  \n",
       "\n",
       "[1200 rows x 9 columns]"
      ]
     },
     "execution_count": 5,
     "metadata": {},
     "output_type": "execute_result"
    }
   ],
   "source": [
    "X"
   ]
  },
  {
   "cell_type": "code",
   "execution_count": 6,
   "id": "82009c8a",
   "metadata": {},
   "outputs": [
    {
     "data": {
      "text/plain": [
       "0       3\n",
       "1       3\n",
       "2       4\n",
       "3       3\n",
       "4       3\n",
       "       ..\n",
       "1195    4\n",
       "1196    3\n",
       "1197    3\n",
       "1198    3\n",
       "1199    2\n",
       "Name: PerformanceRating, Length: 1200, dtype: int64"
      ]
     },
     "execution_count": 6,
     "metadata": {},
     "output_type": "execute_result"
    }
   ],
   "source": [
    "y"
   ]
  },
  {
   "cell_type": "markdown",
   "id": "5faa887a",
   "metadata": {},
   "source": [
    "### BALANCING THE TARGET FEATURE\n",
    "**smote** :- it is an oversampling technique used to address class imbalance in a dataset. Class imbalance occurs when there is a significant difference in the number of instances between two or more classes in a dataset. This can lead to machine learning models that are biased towards the majority class and perform poorly on the minority class."
   ]
  },
  {
   "cell_type": "code",
   "execution_count": 7,
   "id": "8aa4544b",
   "metadata": {},
   "outputs": [
    {
     "name": "stdout",
     "output_type": "stream",
     "text": [
      "unbalanced data   :   Counter({3: 874, 2: 194, 4: 132})\n",
      "balanced data:    : Counter({3: 874, 4: 874, 2: 874})\n"
     ]
    }
   ],
   "source": [
    "from collections import Counter\n",
    "from imblearn.over_sampling import SMOTE #SMOTE(synthetic minority oversampling techinque)\n",
    "sm = SMOTE() # obeject creation\n",
    "print(\"unbalanced data   :  \",Counter(y))\n",
    "X_sm,y_sm = sm.fit_resample(X,y)\n",
    "print(\"balanced data:    :\",Counter(y_sm))"
   ]
  },
  {
   "cell_type": "markdown",
   "id": "f688e3a1",
   "metadata": {},
   "source": [
    "* Target Fature is balanced now"
   ]
  },
  {
   "cell_type": "markdown",
   "id": "0cf399ee",
   "metadata": {},
   "source": [
    "### SPLIT TRAINING AND TESTING DATA"
   ]
  },
  {
   "cell_type": "code",
   "execution_count": 8,
   "id": "aa7bc0e1",
   "metadata": {},
   "outputs": [],
   "source": [
    "from sklearn.model_selection import train_test_split\n",
    "X_train,X_test,y_train,y_test=train_test_split(X_sm,y_sm,random_state=42,test_size=0.2) # 20% data given to testing"
   ]
  },
  {
   "cell_type": "code",
   "execution_count": 9,
   "id": "b5c192d0",
   "metadata": {},
   "outputs": [
    {
     "data": {
      "text/plain": [
       "((2097, 9), (525, 9), (2097,), (525,))"
      ]
     },
     "execution_count": 9,
     "metadata": {},
     "output_type": "execute_result"
    }
   ],
   "source": [
    "# Check shape of train and test\n",
    "X_train.shape, X_test.shape, y_train.shape, y_test.shape\n"
   ]
  },
  {
   "cell_type": "markdown",
   "id": "2d8dae38",
   "metadata": {},
   "source": [
    "### MODEL CREATION, PREDICTION AND EVALUATION"
   ]
  },
  {
   "cell_type": "markdown",
   "id": "619bc440",
   "metadata": {},
   "source": [
    "\n",
    "#### Here we will be using this Algorithm\n",
    "* Logistic Regression\n",
    "* K-Nearest Neighbor\n",
    "* Support Vector Machine\n",
    "* Decision Tree\n",
    "* Random Forest\n",
    "* Xg Boost Classifier\n",
    "* Artificial Neural Network [MLP Classifier]"
   ]
  },
  {
   "cell_type": "code",
   "execution_count": null,
   "id": "bb476f35",
   "metadata": {},
   "outputs": [],
   "source": []
  },
  {
   "cell_type": "markdown",
   "id": "0ad4ec53",
   "metadata": {},
   "source": [
    "## 1. Logistic Regression"
   ]
  },
  {
   "cell_type": "code",
   "execution_count": 10,
   "id": "eb226050",
   "metadata": {},
   "outputs": [],
   "source": [
    "# importing library\n",
    "from sklearn.linear_model import LogisticRegression\n",
    "# Object Creaation\n",
    "LR = LogisticRegression()\n",
    "# Fitting training and testing data\n",
    "LR.fit(X_train,y_train)\n",
    "# Prediction on train data\n",
    "LR_train_predict = LR.predict(X_train)\n",
    "# Prediction on test data\n",
    "LR_test_predict = LR.predict(X_test)"
   ]
  },
  {
   "cell_type": "markdown",
   "id": "44ca9869",
   "metadata": {},
   "source": [
    "### Training accuracy"
   ]
  },
  {
   "cell_type": "code",
   "execution_count": 12,
   "id": "5e5ec7ef",
   "metadata": {},
   "outputs": [
    {
     "name": "stdout",
     "output_type": "stream",
     "text": [
      "Training accuracy of Logistic Regression model 0.8183118741058655\n",
      "Logistic Regression Classification report: \n",
      "               precision    recall  f1-score   support\n",
      "\n",
      "           2       0.86      0.84      0.85       712\n",
      "           3       0.71      0.79      0.75       629\n",
      "           4       0.89      0.83      0.85       756\n",
      "\n",
      "    accuracy                           0.82      2097\n",
      "   macro avg       0.82      0.82      0.82      2097\n",
      "weighted avg       0.82      0.82      0.82      2097\n",
      "\n"
     ]
    }
   ],
   "source": [
    "# import metrics\n",
    "from sklearn.metrics import accuracy_score,f1_score,recall_score,precision_score,classification_report,confusion_matrix\n",
    "LR_train_accuracy = accuracy_score(LR_train_predict,y_train)\n",
    "print(\"Training accuracy of Logistic Regression model\", LR_train_accuracy)\n",
    "print(\"Logistic Regression Classification report: \\n\", classification_report(LR_train_predict,y_train))"
   ]
  },
  {
   "cell_type": "markdown",
   "id": "3f35cc8a",
   "metadata": {},
   "source": [
    "### Testing accuracy"
   ]
  },
  {
   "cell_type": "code",
   "execution_count": 13,
   "id": "73c13984",
   "metadata": {},
   "outputs": [
    {
     "name": "stdout",
     "output_type": "stream",
     "text": [
      "Testing accuracy of Logistic Regression model 0.7961904761904762\n",
      "Logistic Regression Classification report: \n",
      "               precision    recall  f1-score   support\n",
      "\n",
      "           2       0.85      0.81      0.83       193\n",
      "           3       0.65      0.82      0.73       137\n",
      "           4       0.89      0.76      0.82       195\n",
      "\n",
      "    accuracy                           0.80       525\n",
      "   macro avg       0.80      0.80      0.79       525\n",
      "weighted avg       0.81      0.80      0.80       525\n",
      "\n"
     ]
    }
   ],
   "source": [
    "LR_test_accuracy = accuracy_score(LR_test_predict,y_test)\n",
    "print(\"Testing accuracy of Logistic Regression model\",LR_test_accuracy)\n",
    "print(\"Logistic Regression Classification report: \\n\",classification_report(LR_test_predict,y_test))"
   ]
  },
  {
   "cell_type": "markdown",
   "id": "b74b62e3",
   "metadata": {},
   "source": [
    "### Hyperparameter tunning with grid-search cv"
   ]
  },
  {
   "cell_type": "code",
   "execution_count": 14,
   "id": "8fdc9f6a",
   "metadata": {},
   "outputs": [
    {
     "name": "stdout",
     "output_type": "stream",
     "text": [
      "Best Accuracy of LR: 81.73 %\n",
      "Best Parameter of LR: {'C': 1, 'penalty': 'l2', 'solver': 'liblinear'}\n"
     ]
    }
   ],
   "source": [
    "from sklearn.model_selection import GridSearchCV\n",
    "parameters_lr = [{'penalty':['l1','l2'], 'C': [0.001, 0.01, 0.1, 1, 10, 100, 1000], \n",
    "                  'solver': ['lbfgs','liblinear', 'newton-cg', 'newton-cholesky', 'sag', 'saga']}]\n",
    "\n",
    "grid_search_lr = GridSearchCV(estimator = LR,\n",
    "                           param_grid = parameters_lr,\n",
    "                           scoring = 'accuracy',\n",
    "                           cv = 10,\n",
    "                           n_jobs = -1)\n",
    "\n",
    "grid_search_lr.fit(X_train, y_train)\n",
    "best_accuracy_lr = grid_search_lr.best_score_\n",
    "best_paramaeter_lr = grid_search_lr.best_params_  \n",
    "print(\"Best Accuracy of LR: {:.2f} %\".format(best_accuracy_lr.mean()*100))\n",
    "print(\"Best Parameter of LR:\", best_paramaeter_lr)"
   ]
  },
  {
   "cell_type": "code",
   "execution_count": 15,
   "id": "fea6bb3d",
   "metadata": {},
   "outputs": [],
   "source": [
    "# set the best parameter \n",
    "clf =LogisticRegression(C = 1, penalty= 'l2', solver= 'liblinear')\n",
    "# fit the model\n",
    "clf.fit(X_train,y_train)\n",
    "# Predict the x test\n",
    "y_hat_clf = clf.predict(X_test)"
   ]
  },
  {
   "cell_type": "markdown",
   "id": "9e8b9854",
   "metadata": {},
   "source": [
    "### Testing accuracy after Hyperparameter tunning"
   ]
  },
  {
   "cell_type": "code",
   "execution_count": 16,
   "id": "c79a636f",
   "metadata": {},
   "outputs": [
    {
     "name": "stdout",
     "output_type": "stream",
     "text": [
      "Testing accuracy of Logistic Regression model 0.7961904761904762\n",
      "Logistic Regression Classification report: \n",
      "               precision    recall  f1-score   support\n",
      "\n",
      "           2       0.88      0.80      0.84       201\n",
      "           3       0.62      0.86      0.72       126\n",
      "           4       0.89      0.75      0.81       198\n",
      "\n",
      "    accuracy                           0.80       525\n",
      "   macro avg       0.80      0.80      0.79       525\n",
      "weighted avg       0.82      0.80      0.80       525\n",
      "\n"
     ]
    }
   ],
   "source": [
    "test_accuracy = accuracy_score(y_hat_clf ,y_test)\n",
    "print(\"Testing accuracy of Logistic Regression model\",test_accuracy)\n",
    "print(\"Logistic Regression Classification report: \\n\",classification_report(y_hat_clf,y_test))"
   ]
  },
  {
   "cell_type": "markdown",
   "id": "7179110c",
   "metadata": {},
   "source": [
    "* After hyperparameter accuracy remains same, there is no change in accuracy"
   ]
  },
  {
   "cell_type": "code",
   "execution_count": 17,
   "id": "51a9b1d4",
   "metadata": {},
   "outputs": [
    {
     "data": {
      "text/plain": [
       "array([[161,   6,  17],\n",
       "       [ 33, 108,  32],\n",
       "       [  7,  12, 149]], dtype=int64)"
      ]
     },
     "execution_count": 17,
     "metadata": {},
     "output_type": "execute_result"
    }
   ],
   "source": [
    "confusion_matrix(y_test, y_hat_clf)"
   ]
  },
  {
   "cell_type": "markdown",
   "id": "40bd5756",
   "metadata": {},
   "source": [
    "## 2. K-Nearest Neighbor"
   ]
  },
  {
   "cell_type": "code",
   "execution_count": 18,
   "id": "43e664e2",
   "metadata": {},
   "outputs": [],
   "source": [
    "from sklearn.neighbors import KNeighborsClassifier\n",
    "#Create KNN Object.\n",
    "knn = KNeighborsClassifier()\n",
    "#Training the model.\n",
    "knn.fit(X_train, y_train)\n",
    "# Prediction on train data\n",
    "knn_train_predict = knn.predict(X_train)\n",
    "#Predict test data set.\n",
    "knn_test_predict = knn.predict(X_test)"
   ]
  },
  {
   "cell_type": "markdown",
   "id": "04b56d4e",
   "metadata": {},
   "source": [
    "### Training accuracy"
   ]
  },
  {
   "cell_type": "code",
   "execution_count": 19,
   "id": "6d3572b5",
   "metadata": {},
   "outputs": [
    {
     "name": "stdout",
     "output_type": "stream",
     "text": [
      "Training accuracy of K-Nearest Neighbor model 0.9275154983309489\n",
      "K-Nearest Neighbor Classification report: \n",
      "               precision    recall  f1-score   support\n",
      "\n",
      "           2       0.99      0.92      0.95       739\n",
      "           3       0.80      0.99      0.88       568\n",
      "           4       1.00      0.89      0.94       790\n",
      "\n",
      "    accuracy                           0.93      2097\n",
      "   macro avg       0.93      0.93      0.93      2097\n",
      "weighted avg       0.94      0.93      0.93      2097\n",
      "\n"
     ]
    }
   ],
   "source": [
    "# import metrics\n",
    "from sklearn.metrics import accuracy_score,f1_score,recall_score,precision_score,classification_report,confusion_matrix\n",
    "knn_train_accuracy = accuracy_score(knn_train_predict,y_train)\n",
    "print(\"Training accuracy of K-Nearest Neighbor model\", knn_train_accuracy)\n",
    "print(\"K-Nearest Neighbor Classification report: \\n\", classification_report(knn_train_predict,y_train))"
   ]
  },
  {
   "cell_type": "markdown",
   "id": "b516151d",
   "metadata": {},
   "source": [
    "### Testing accuracy"
   ]
  },
  {
   "cell_type": "code",
   "execution_count": 20,
   "id": "5cbeb823",
   "metadata": {},
   "outputs": [
    {
     "name": "stdout",
     "output_type": "stream",
     "text": [
      "Testing accuracy of K-Nearest Neighbor model 0.8914285714285715\n",
      "K-Nearest Neighbor Classification report: \n",
      "               precision    recall  f1-score   support\n",
      "\n",
      "           2       0.98      0.89      0.93       202\n",
      "           3       0.71      0.97      0.82       127\n",
      "           4       0.98      0.84      0.91       196\n",
      "\n",
      "    accuracy                           0.89       525\n",
      "   macro avg       0.89      0.90      0.89       525\n",
      "weighted avg       0.92      0.89      0.90       525\n",
      "\n"
     ]
    }
   ],
   "source": [
    "knn_test_accuracy = accuracy_score(knn_test_predict,y_test)\n",
    "print(\"Testing accuracy of K-Nearest Neighbor model\",knn_test_accuracy)\n",
    "print(\"K-Nearest Neighbor Classification report: \\n\",classification_report(knn_test_predict,y_test))"
   ]
  },
  {
   "cell_type": "markdown",
   "id": "6eec3c69",
   "metadata": {},
   "source": [
    "### Hyperparameter tunning with grid-search cv"
   ]
  },
  {
   "cell_type": "code",
   "execution_count": 21,
   "id": "16f3ab36",
   "metadata": {},
   "outputs": [
    {
     "name": "stdout",
     "output_type": "stream",
     "text": [
      "Fitting 10 folds for each of 28 candidates, totalling 280 fits\n",
      "{'n_neighbors': 2}\n"
     ]
    }
   ],
   "source": [
    "from sklearn.model_selection import GridSearchCV\n",
    "parameter={'n_neighbors': np.arange(2, 30, 1)}\n",
    "knn=KNeighborsClassifier()\n",
    "knn_cv=GridSearchCV(knn, param_grid=parameter, cv=10, scoring='f1', verbose=1)\n",
    "knn_cv.fit(X_train, y_train)\n",
    "print(knn_cv.best_params_)"
   ]
  },
  {
   "cell_type": "code",
   "execution_count": 22,
   "id": "d232c64e",
   "metadata": {},
   "outputs": [],
   "source": [
    "# set the best parameter \n",
    "knn_clf = KNeighborsClassifier(n_neighbors=2)\n",
    "# fit the model\n",
    "knn_clf.fit(X_train,y_train)\n",
    "# Predict the x test\n",
    "knn_hat_clf = knn_clf.predict(X_test)"
   ]
  },
  {
   "cell_type": "markdown",
   "id": "7c4b6ae5",
   "metadata": {},
   "source": [
    "### Testing accuracy after Hyperparameter tunning"
   ]
  },
  {
   "cell_type": "code",
   "execution_count": 23,
   "id": "8ec6c6a1",
   "metadata": {},
   "outputs": [
    {
     "name": "stdout",
     "output_type": "stream",
     "text": [
      "Testing accuracy of K-Nearest Neighbor model 0.9123809523809524\n",
      "K-Nearest Neighbor Classification report: \n",
      "               precision    recall  f1-score   support\n",
      "\n",
      "           2       1.00      0.87      0.93       211\n",
      "           3       0.79      0.94      0.86       144\n",
      "           4       0.95      0.94      0.94       170\n",
      "\n",
      "    accuracy                           0.91       525\n",
      "   macro avg       0.91      0.92      0.91       525\n",
      "weighted avg       0.92      0.91      0.91       525\n",
      "\n"
     ]
    }
   ],
   "source": [
    "test_accuracy = accuracy_score(knn_hat_clf,y_test)\n",
    "print(\"Testing accuracy of K-Nearest Neighbor model\",test_accuracy)\n",
    "print(\"K-Nearest Neighbor Classification report: \\n\",classification_report(knn_hat_clf,y_test))"
   ]
  },
  {
   "cell_type": "code",
   "execution_count": 26,
   "id": "0937cf7e",
   "metadata": {},
   "outputs": [
    {
     "data": {
      "text/plain": [
       "array([[184,   0,   0],\n",
       "       [ 25, 134,  14],\n",
       "       [  1,  11, 156]], dtype=int64)"
      ]
     },
     "execution_count": 26,
     "metadata": {},
     "output_type": "execute_result"
    }
   ],
   "source": [
    "confusion_matrix(y_test, knn_hat_clf)"
   ]
  },
  {
   "cell_type": "markdown",
   "id": "14869ccf",
   "metadata": {},
   "source": [
    "## 3. SVM"
   ]
  },
  {
   "cell_type": "code",
   "execution_count": 24,
   "id": "642a0d5e",
   "metadata": {},
   "outputs": [],
   "source": [
    "# importing library\n",
    "from sklearn.svm import SVC\n",
    "# Object Creaation\n",
    "svc = SVC()\n",
    "# Fitting training and testing data\n",
    "svc.fit(X_train,y_train)\n",
    "# Prediction on train data\n",
    "svc_train_predict = svc.predict(X_train)\n",
    "# Prediction on test data\n",
    "svc_test_predict = svc.predict(X_test)"
   ]
  },
  {
   "cell_type": "markdown",
   "id": "28f9f6a2",
   "metadata": {},
   "source": [
    "### Training accuracy"
   ]
  },
  {
   "cell_type": "code",
   "execution_count": 25,
   "id": "f1d512bf",
   "metadata": {},
   "outputs": [
    {
     "name": "stdout",
     "output_type": "stream",
     "text": [
      "Training accuracy of support vector classifier model 0.8392942298521697\n",
      "support vector classifier Classification report: \n",
      "               precision    recall  f1-score   support\n",
      "\n",
      "           2       0.93      0.85      0.89       753\n",
      "           3       0.71      0.84      0.77       589\n",
      "           4       0.89      0.83      0.86       755\n",
      "\n",
      "    accuracy                           0.84      2097\n",
      "   macro avg       0.84      0.84      0.84      2097\n",
      "weighted avg       0.85      0.84      0.84      2097\n",
      "\n"
     ]
    }
   ],
   "source": [
    "# import metrics\n",
    "from sklearn.metrics import accuracy_score,f1_score,recall_score,precision_score,classification_report,confusion_matrix\n",
    "svc_train_accuracy = accuracy_score(svc_train_predict,y_train)\n",
    "print(\"Training accuracy of support vector classifier model\",svc_train_accuracy)\n",
    "print(\"support vector classifier Classification report: \\n\",classification_report(svc_train_predict,y_train))"
   ]
  },
  {
   "cell_type": "markdown",
   "id": "f82cd991",
   "metadata": {},
   "source": [
    "### Testing accuracy"
   ]
  },
  {
   "cell_type": "code",
   "execution_count": 26,
   "id": "7b827a4b",
   "metadata": {},
   "outputs": [
    {
     "name": "stdout",
     "output_type": "stream",
     "text": [
      "Testing accuracy of support vector classifier model 0.8019047619047619\n",
      "support vector classifier Classification report: \n",
      "               precision    recall  f1-score   support\n",
      "\n",
      "           2       0.88      0.81      0.85       199\n",
      "           3       0.64      0.87      0.73       127\n",
      "           4       0.89      0.75      0.81       199\n",
      "\n",
      "    accuracy                           0.80       525\n",
      "   macro avg       0.80      0.81      0.80       525\n",
      "weighted avg       0.82      0.80      0.81       525\n",
      "\n"
     ]
    }
   ],
   "source": [
    "svc_test_accuracy = accuracy_score(svc_test_predict,y_test)\n",
    "print(\"Testing accuracy of support vector classifier model\",svc_test_accuracy)\n",
    "print(\"support vector classifier Classification report: \\n\",classification_report(svc_test_predict,y_test))"
   ]
  },
  {
   "cell_type": "markdown",
   "id": "e46e2a21",
   "metadata": {},
   "source": [
    "### Hyperparameter tunning with grid-search cv"
   ]
  },
  {
   "cell_type": "code",
   "execution_count": 39,
   "id": "0bd807a8",
   "metadata": {
    "scrolled": true
   },
   "outputs": [
    {
     "name": "stdout",
     "output_type": "stream",
     "text": [
      "Fitting 10 folds for each of 24 candidates, totalling 240 fits\n",
      "[CV] END ...................................C=0.5, gamma=0.1; total time=   0.0s\n",
      "[CV] END ...................................C=0.5, gamma=0.1; total time=   0.0s\n",
      "[CV] END ...................................C=0.5, gamma=0.1; total time=   0.0s\n",
      "[CV] END ...................................C=0.5, gamma=0.1; total time=   0.0s\n",
      "[CV] END ...................................C=0.5, gamma=0.1; total time=   0.0s\n",
      "[CV] END ...................................C=0.5, gamma=0.1; total time=   0.0s\n",
      "[CV] END ...................................C=0.5, gamma=0.1; total time=   0.0s\n",
      "[CV] END ...................................C=0.5, gamma=0.1; total time=   0.0s\n",
      "[CV] END ...................................C=0.5, gamma=0.1; total time=   0.0s\n",
      "[CV] END ...................................C=0.5, gamma=0.1; total time=   0.0s\n",
      "[CV] END .................................C=0.5, gamma=0.001; total time=   0.0s\n",
      "[CV] END .................................C=0.5, gamma=0.001; total time=   0.0s\n",
      "[CV] END .................................C=0.5, gamma=0.001; total time=   0.0s\n",
      "[CV] END .................................C=0.5, gamma=0.001; total time=   0.0s\n",
      "[CV] END .................................C=0.5, gamma=0.001; total time=   0.0s\n",
      "[CV] END .................................C=0.5, gamma=0.001; total time=   0.0s\n",
      "[CV] END .................................C=0.5, gamma=0.001; total time=   0.0s\n",
      "[CV] END .................................C=0.5, gamma=0.001; total time=   0.0s\n",
      "[CV] END .................................C=0.5, gamma=0.001; total time=   0.0s\n",
      "[CV] END .................................C=0.5, gamma=0.001; total time=   0.0s\n",
      "[CV] END ................................C=0.5, gamma=0.0001; total time=   0.0s\n",
      "[CV] END ................................C=0.5, gamma=0.0001; total time=   0.0s\n",
      "[CV] END ................................C=0.5, gamma=0.0001; total time=   0.0s\n",
      "[CV] END ................................C=0.5, gamma=0.0001; total time=   0.0s\n",
      "[CV] END ................................C=0.5, gamma=0.0001; total time=   0.0s\n",
      "[CV] END ................................C=0.5, gamma=0.0001; total time=   0.0s\n",
      "[CV] END ................................C=0.5, gamma=0.0001; total time=   0.0s\n",
      "[CV] END ................................C=0.5, gamma=0.0001; total time=   0.0s\n",
      "[CV] END ................................C=0.5, gamma=0.0001; total time=   0.0s\n",
      "[CV] END ................................C=0.5, gamma=0.0001; total time=   0.0s\n",
      "[CV] END .................................C=0.5, gamma=1e-05; total time=   0.0s\n",
      "[CV] END .................................C=0.5, gamma=1e-05; total time=   0.0s\n",
      "[CV] END .................................C=0.5, gamma=1e-05; total time=   0.0s\n",
      "[CV] END .................................C=0.5, gamma=1e-05; total time=   0.0s\n",
      "[CV] END .................................C=0.5, gamma=1e-05; total time=   0.0s\n",
      "[CV] END .................................C=0.5, gamma=1e-05; total time=   0.0s\n",
      "[CV] END .................................C=0.5, gamma=1e-05; total time=   0.0s\n",
      "[CV] END .................................C=0.5, gamma=1e-05; total time=   0.0s\n",
      "[CV] END .................................C=0.5, gamma=1e-05; total time=   0.0s\n",
      "[CV] END .................................C=0.5, gamma=1e-05; total time=   0.0s\n",
      "[CV] END ....................................C=10, gamma=0.1; total time=   0.0s\n",
      "[CV] END ....................................C=10, gamma=0.1; total time=   0.0s\n",
      "[CV] END ....................................C=10, gamma=0.1; total time=   0.0s\n",
      "[CV] END ....................................C=10, gamma=0.1; total time=   0.0s\n",
      "[CV] END ....................................C=10, gamma=0.1; total time=   0.0s\n",
      "[CV] END ....................................C=10, gamma=0.1; total time=   0.0s\n",
      "[CV] END ....................................C=10, gamma=0.1; total time=   0.0s\n",
      "[CV] END ....................................C=10, gamma=0.1; total time=   0.0s\n",
      "[CV] END ....................................C=10, gamma=0.1; total time=   0.0s\n",
      "[CV] END ....................................C=10, gamma=0.1; total time=   0.0s\n",
      "[CV] END ..................................C=10, gamma=0.001; total time=   0.0s\n",
      "[CV] END ..................................C=10, gamma=0.001; total time=   0.0s\n",
      "[CV] END ..................................C=10, gamma=0.001; total time=   0.0s\n",
      "[CV] END ..................................C=10, gamma=0.001; total time=   0.0s\n",
      "[CV] END ..................................C=10, gamma=0.001; total time=   0.0s\n",
      "[CV] END ..................................C=10, gamma=0.001; total time=   0.0s\n",
      "[CV] END ..................................C=10, gamma=0.001; total time=   0.0s\n",
      "[CV] END ..................................C=10, gamma=0.001; total time=   0.0s\n",
      "[CV] END ..................................C=10, gamma=0.001; total time=   0.0s\n",
      "[CV] END ..................................C=10, gamma=0.001; total time=   0.0s\n",
      "[CV] END .................................C=10, gamma=0.0001; total time=   0.0s\n",
      "[CV] END .................................C=10, gamma=0.0001; total time=   0.0s\n",
      "[CV] END .................................C=10, gamma=0.0001; total time=   0.0s\n",
      "[CV] END .................................C=10, gamma=0.0001; total time=   0.0s\n",
      "[CV] END .................................C=10, gamma=0.0001; total time=   0.0s\n",
      "[CV] END .................................C=10, gamma=0.0001; total time=   0.0s\n",
      "[CV] END .................................C=10, gamma=0.0001; total time=   0.0s\n",
      "[CV] END .................................C=10, gamma=0.0001; total time=   0.0s\n",
      "[CV] END .................................C=10, gamma=0.0001; total time=   0.0s\n",
      "[CV] END .................................C=10, gamma=0.0001; total time=   0.0s\n",
      "[CV] END ..................................C=10, gamma=1e-05; total time=   0.0s\n",
      "[CV] END ..................................C=10, gamma=1e-05; total time=   0.0s\n",
      "[CV] END ..................................C=10, gamma=1e-05; total time=   0.0s\n",
      "[CV] END ..................................C=10, gamma=1e-05; total time=   0.0s\n",
      "[CV] END ..................................C=10, gamma=1e-05; total time=   0.0s\n",
      "[CV] END ..................................C=10, gamma=1e-05; total time=   0.0s\n",
      "[CV] END ..................................C=10, gamma=1e-05; total time=   0.0s\n",
      "[CV] END ..................................C=10, gamma=1e-05; total time=   0.0s\n",
      "[CV] END ..................................C=10, gamma=1e-05; total time=   0.0s\n",
      "[CV] END ..................................C=10, gamma=1e-05; total time=   0.0s\n",
      "[CV] END ....................................C=50, gamma=0.1; total time=   0.0s\n",
      "[CV] END ....................................C=50, gamma=0.1; total time=   0.0s\n",
      "[CV] END ....................................C=50, gamma=0.1; total time=   0.0s\n",
      "[CV] END ....................................C=50, gamma=0.1; total time=   0.0s\n",
      "[CV] END ....................................C=50, gamma=0.1; total time=   0.0s\n",
      "[CV] END ....................................C=50, gamma=0.1; total time=   0.0s\n",
      "[CV] END ....................................C=50, gamma=0.1; total time=   0.0s\n",
      "[CV] END ....................................C=50, gamma=0.1; total time=   0.0s\n",
      "[CV] END ....................................C=50, gamma=0.1; total time=   0.0s\n",
      "[CV] END ....................................C=50, gamma=0.1; total time=   0.0s\n",
      "[CV] END ..................................C=50, gamma=0.001; total time=   0.0s\n",
      "[CV] END ..................................C=50, gamma=0.001; total time=   0.0s\n",
      "[CV] END ..................................C=50, gamma=0.001; total time=   0.0s\n",
      "[CV] END ..................................C=50, gamma=0.001; total time=   0.0s\n",
      "[CV] END ..................................C=50, gamma=0.001; total time=   0.0s\n",
      "[CV] END ..................................C=50, gamma=0.001; total time=   0.0s\n",
      "[CV] END ..................................C=50, gamma=0.001; total time=   0.0s\n",
      "[CV] END ..................................C=50, gamma=0.001; total time=   0.0s\n",
      "[CV] END ..................................C=50, gamma=0.001; total time=   0.0s\n",
      "[CV] END ..................................C=50, gamma=0.001; total time=   0.0s\n",
      "[CV] END .................................C=50, gamma=0.0001; total time=   0.0s\n"
     ]
    },
    {
     "name": "stdout",
     "output_type": "stream",
     "text": [
      "[CV] END .................................C=50, gamma=0.0001; total time=   0.0s\n",
      "[CV] END .................................C=50, gamma=0.0001; total time=   0.0s\n",
      "[CV] END .................................C=50, gamma=0.0001; total time=   0.0s\n",
      "[CV] END .................................C=50, gamma=0.0001; total time=   0.0s\n",
      "[CV] END .................................C=50, gamma=0.0001; total time=   0.0s\n",
      "[CV] END .................................C=50, gamma=0.0001; total time=   0.0s\n",
      "[CV] END .................................C=50, gamma=0.0001; total time=   0.0s\n",
      "[CV] END .................................C=50, gamma=0.0001; total time=   0.0s\n",
      "[CV] END .................................C=50, gamma=0.0001; total time=   0.0s\n",
      "[CV] END ..................................C=50, gamma=1e-05; total time=   0.0s\n",
      "[CV] END ..................................C=50, gamma=1e-05; total time=   0.0s\n",
      "[CV] END ..................................C=50, gamma=1e-05; total time=   0.0s\n",
      "[CV] END ..................................C=50, gamma=1e-05; total time=   0.0s\n",
      "[CV] END ..................................C=50, gamma=1e-05; total time=   0.0s\n",
      "[CV] END ..................................C=50, gamma=1e-05; total time=   0.0s\n",
      "[CV] END ..................................C=50, gamma=1e-05; total time=   0.0s\n",
      "[CV] END ..................................C=50, gamma=1e-05; total time=   0.0s\n",
      "[CV] END ..................................C=50, gamma=1e-05; total time=   0.0s\n",
      "[CV] END ..................................C=50, gamma=1e-05; total time=   0.0s\n",
      "[CV] END ....................................C=60, gamma=0.1; total time=   0.0s\n",
      "[CV] END ....................................C=60, gamma=0.1; total time=   0.0s\n",
      "[CV] END ....................................C=60, gamma=0.1; total time=   0.0s\n",
      "[CV] END ....................................C=60, gamma=0.1; total time=   0.0s\n",
      "[CV] END ....................................C=60, gamma=0.1; total time=   0.0s\n",
      "[CV] END ....................................C=60, gamma=0.1; total time=   0.0s\n",
      "[CV] END ....................................C=60, gamma=0.1; total time=   0.0s\n",
      "[CV] END ....................................C=60, gamma=0.1; total time=   0.0s\n",
      "[CV] END ....................................C=60, gamma=0.1; total time=   0.0s\n",
      "[CV] END ....................................C=60, gamma=0.1; total time=   0.0s\n",
      "[CV] END ..................................C=60, gamma=0.001; total time=   0.0s\n",
      "[CV] END ..................................C=60, gamma=0.001; total time=   0.0s\n",
      "[CV] END ..................................C=60, gamma=0.001; total time=   0.0s\n",
      "[CV] END ..................................C=60, gamma=0.001; total time=   0.0s\n",
      "[CV] END ..................................C=60, gamma=0.001; total time=   0.0s\n",
      "[CV] END ..................................C=60, gamma=0.001; total time=   0.0s\n",
      "[CV] END ..................................C=60, gamma=0.001; total time=   0.0s\n",
      "[CV] END ..................................C=60, gamma=0.001; total time=   0.0s\n",
      "[CV] END ..................................C=60, gamma=0.001; total time=   0.0s\n",
      "[CV] END ..................................C=60, gamma=0.001; total time=   0.0s\n",
      "[CV] END .................................C=60, gamma=0.0001; total time=   0.0s\n",
      "[CV] END .................................C=60, gamma=0.0001; total time=   0.0s\n",
      "[CV] END .................................C=60, gamma=0.0001; total time=   0.0s\n",
      "[CV] END .................................C=60, gamma=0.0001; total time=   0.0s\n",
      "[CV] END .................................C=60, gamma=0.0001; total time=   0.0s\n",
      "[CV] END .................................C=60, gamma=0.0001; total time=   0.0s\n",
      "[CV] END .................................C=60, gamma=0.0001; total time=   0.0s\n",
      "[CV] END .................................C=60, gamma=0.0001; total time=   0.0s\n",
      "[CV] END .................................C=60, gamma=0.0001; total time=   0.0s\n",
      "[CV] END .................................C=60, gamma=0.0001; total time=   0.0s\n",
      "[CV] END ..................................C=60, gamma=1e-05; total time=   0.0s\n",
      "[CV] END ..................................C=60, gamma=1e-05; total time=   0.0s\n",
      "[CV] END ..................................C=60, gamma=1e-05; total time=   0.0s\n",
      "[CV] END ..................................C=60, gamma=1e-05; total time=   0.0s\n",
      "[CV] END ..................................C=60, gamma=1e-05; total time=   0.0s\n",
      "[CV] END ..................................C=60, gamma=1e-05; total time=   0.0s\n",
      "[CV] END ..................................C=60, gamma=1e-05; total time=   0.0s\n",
      "[CV] END ..................................C=60, gamma=1e-05; total time=   0.0s\n",
      "[CV] END ..................................C=60, gamma=1e-05; total time=   0.0s\n",
      "[CV] END ..................................C=60, gamma=1e-05; total time=   0.0s\n",
      "[CV] END ....................................C=70, gamma=0.1; total time=   0.0s\n",
      "[CV] END ....................................C=70, gamma=0.1; total time=   0.0s\n",
      "[CV] END ....................................C=70, gamma=0.1; total time=   0.0s\n",
      "[CV] END ....................................C=70, gamma=0.1; total time=   0.0s\n",
      "[CV] END ....................................C=70, gamma=0.1; total time=   0.0s\n",
      "[CV] END ....................................C=70, gamma=0.1; total time=   0.0s\n",
      "[CV] END ....................................C=70, gamma=0.1; total time=   0.0s\n",
      "[CV] END ....................................C=70, gamma=0.1; total time=   0.0s\n",
      "[CV] END ....................................C=70, gamma=0.1; total time=   0.0s\n",
      "[CV] END ....................................C=70, gamma=0.1; total time=   0.0s\n",
      "[CV] END ..................................C=70, gamma=0.001; total time=   0.0s\n",
      "[CV] END ..................................C=70, gamma=0.001; total time=   0.0s\n",
      "[CV] END ..................................C=70, gamma=0.001; total time=   0.0s\n",
      "[CV] END ..................................C=70, gamma=0.001; total time=   0.0s\n",
      "[CV] END ..................................C=70, gamma=0.001; total time=   0.0s\n",
      "[CV] END ..................................C=70, gamma=0.001; total time=   0.0s\n",
      "[CV] END ..................................C=70, gamma=0.001; total time=   0.0s\n",
      "[CV] END ..................................C=70, gamma=0.001; total time=   0.0s\n",
      "[CV] END ..................................C=70, gamma=0.001; total time=   0.0s\n",
      "[CV] END ..................................C=70, gamma=0.001; total time=   0.0s\n",
      "[CV] END .................................C=70, gamma=0.0001; total time=   0.0s\n",
      "[CV] END .................................C=70, gamma=0.0001; total time=   0.0s\n",
      "[CV] END .................................C=70, gamma=0.0001; total time=   0.0s\n",
      "[CV] END .................................C=70, gamma=0.0001; total time=   0.0s\n",
      "[CV] END .................................C=70, gamma=0.0001; total time=   0.0s\n",
      "[CV] END .................................C=70, gamma=0.0001; total time=   0.0s\n",
      "[CV] END .................................C=70, gamma=0.0001; total time=   0.0s\n",
      "[CV] END .................................C=70, gamma=0.0001; total time=   0.0s\n",
      "[CV] END .................................C=70, gamma=0.0001; total time=   0.0s\n",
      "[CV] END .................................C=70, gamma=0.0001; total time=   0.0s\n",
      "[CV] END ..................................C=70, gamma=1e-05; total time=   0.0s\n",
      "[CV] END ..................................C=70, gamma=1e-05; total time=   0.0s\n",
      "[CV] END ..................................C=70, gamma=1e-05; total time=   0.0s\n",
      "[CV] END ..................................C=70, gamma=1e-05; total time=   0.0s\n",
      "[CV] END ..................................C=70, gamma=1e-05; total time=   0.0s\n",
      "[CV] END ..................................C=70, gamma=1e-05; total time=   0.0s\n",
      "[CV] END ..................................C=70, gamma=1e-05; total time=   0.0s\n",
      "[CV] END ..................................C=70, gamma=1e-05; total time=   0.0s\n",
      "[CV] END ..................................C=70, gamma=1e-05; total time=   0.0s\n",
      "[CV] END ..................................C=70, gamma=1e-05; total time=   0.0s\n",
      "[CV] END ....................................C=80, gamma=0.1; total time=   0.0s\n",
      "[CV] END ....................................C=80, gamma=0.1; total time=   0.0s\n",
      "[CV] END ....................................C=80, gamma=0.1; total time=   0.0s\n",
      "[CV] END ....................................C=80, gamma=0.1; total time=   0.0s\n",
      "[CV] END ....................................C=80, gamma=0.1; total time=   0.0s\n",
      "[CV] END ....................................C=80, gamma=0.1; total time=   0.0s\n"
     ]
    },
    {
     "name": "stdout",
     "output_type": "stream",
     "text": [
      "[CV] END ....................................C=80, gamma=0.1; total time=   0.0s\n",
      "[CV] END ....................................C=80, gamma=0.1; total time=   0.0s\n",
      "[CV] END ....................................C=80, gamma=0.1; total time=   0.0s\n",
      "[CV] END ....................................C=80, gamma=0.1; total time=   0.0s\n",
      "[CV] END ..................................C=80, gamma=0.001; total time=   0.0s\n",
      "[CV] END ..................................C=80, gamma=0.001; total time=   0.0s\n",
      "[CV] END ..................................C=80, gamma=0.001; total time=   0.0s\n",
      "[CV] END ..................................C=80, gamma=0.001; total time=   0.0s\n",
      "[CV] END ..................................C=80, gamma=0.001; total time=   0.0s\n",
      "[CV] END ..................................C=80, gamma=0.001; total time=   0.0s\n",
      "[CV] END ..................................C=80, gamma=0.001; total time=   0.0s\n",
      "[CV] END ..................................C=80, gamma=0.001; total time=   0.0s\n",
      "[CV] END ..................................C=80, gamma=0.001; total time=   0.0s\n",
      "[CV] END ..................................C=80, gamma=0.001; total time=   0.0s\n",
      "[CV] END .................................C=80, gamma=0.0001; total time=   0.0s\n",
      "[CV] END .................................C=80, gamma=0.0001; total time=   0.0s\n",
      "[CV] END .................................C=80, gamma=0.0001; total time=   0.0s\n",
      "[CV] END .................................C=80, gamma=0.0001; total time=   0.0s\n",
      "[CV] END .................................C=80, gamma=0.0001; total time=   0.0s\n",
      "[CV] END .................................C=80, gamma=0.0001; total time=   0.0s\n",
      "[CV] END .................................C=80, gamma=0.0001; total time=   0.0s\n",
      "[CV] END .................................C=80, gamma=0.0001; total time=   0.0s\n",
      "[CV] END .................................C=80, gamma=0.0001; total time=   0.0s\n",
      "[CV] END .................................C=80, gamma=0.0001; total time=   0.0s\n",
      "[CV] END ..................................C=80, gamma=1e-05; total time=   0.0s\n",
      "[CV] END ..................................C=80, gamma=1e-05; total time=   0.0s\n",
      "[CV] END ..................................C=80, gamma=1e-05; total time=   0.0s\n",
      "[CV] END ..................................C=80, gamma=1e-05; total time=   0.0s\n",
      "[CV] END ..................................C=80, gamma=1e-05; total time=   0.0s\n",
      "[CV] END ..................................C=80, gamma=1e-05; total time=   0.0s\n",
      "[CV] END ..................................C=80, gamma=1e-05; total time=   0.0s\n",
      "[CV] END ..................................C=80, gamma=1e-05; total time=   0.0s\n",
      "[CV] END ..................................C=80, gamma=1e-05; total time=   0.0s\n",
      "[CV] END ..................................C=80, gamma=1e-05; total time=   0.0s\n",
      "SVC(C=0.5, gamma=0.1)\n"
     ]
    }
   ],
   "source": [
    "from sklearn.model_selection import GridSearchCV\n",
    "param = {'C':[0.5,10,50,60,70,80], 'gamma':[0.1,0.001,0.0001,0.00001]}\n",
    "# Object Creaation\n",
    "svc = SVC()\n",
    "grid = GridSearchCV(svc, param_grid=param, cv=10,refit=True, scoring='f1', verbose=2)\n",
    "grid.fit(X_train,y_train)\n",
    "print(grid.best_estimator_)"
   ]
  },
  {
   "cell_type": "code",
   "execution_count": 36,
   "id": "993c3edd",
   "metadata": {},
   "outputs": [],
   "source": [
    "# set the best parameter \n",
    "svm_clf =SVC(C=0.5, gamma=0.1)\n",
    "# fit the model\n",
    "svm_clf.fit(X_train,y_train)\n",
    "# Predict the x test\n",
    "svm_hat_clf = svm_clf.predict(X_test)\n",
    "# Predict the x train\n",
    "svm_hat_train_clf = svm_clf.predict(X_train)"
   ]
  },
  {
   "cell_type": "markdown",
   "id": "ea2a1b24",
   "metadata": {},
   "source": [
    "### Training accuracy after Hyperparameter tunning"
   ]
  },
  {
   "cell_type": "code",
   "execution_count": 37,
   "id": "468039d9",
   "metadata": {},
   "outputs": [
    {
     "name": "stdout",
     "output_type": "stream",
     "text": [
      "Training accuracy of support vector classifier model 0.9098712446351931\n",
      "support vector classifier Classification report: \n",
      "               precision    recall  f1-score   support\n",
      "\n",
      "           2       0.99      0.92      0.95       739\n",
      "           3       0.81      0.91      0.86       624\n",
      "           4       0.93      0.90      0.91       734\n",
      "\n",
      "    accuracy                           0.91      2097\n",
      "   macro avg       0.91      0.91      0.91      2097\n",
      "weighted avg       0.92      0.91      0.91      2097\n",
      "\n"
     ]
    }
   ],
   "source": [
    "train_accuracy = accuracy_score(svm_hat_train_clf,y_train)\n",
    "print(\"Training accuracy of support vector classifier model\",train_accuracy)\n",
    "print(\"support vector classifier Classification report: \\n\",classification_report(svm_hat_train_clf,y_train))"
   ]
  },
  {
   "cell_type": "markdown",
   "id": "884bfdb3",
   "metadata": {},
   "source": [
    "### Testing accuracy after Hyperparameter tunning"
   ]
  },
  {
   "cell_type": "code",
   "execution_count": 38,
   "id": "3be2def5",
   "metadata": {},
   "outputs": [
    {
     "name": "stdout",
     "output_type": "stream",
     "text": [
      "Testing accuracy of support vector classifier model 0.8895238095238095\n",
      "support vector classifier Classification report: \n",
      "               precision    recall  f1-score   support\n",
      "\n",
      "           2       0.95      0.91      0.93       192\n",
      "           3       0.79      0.89      0.84       152\n",
      "           4       0.93      0.86      0.89       181\n",
      "\n",
      "    accuracy                           0.89       525\n",
      "   macro avg       0.89      0.89      0.89       525\n",
      "weighted avg       0.90      0.89      0.89       525\n",
      "\n"
     ]
    }
   ],
   "source": [
    "test_accuracy = accuracy_score(svm_hat_clf,y_test)\n",
    "print(\"Testing accuracy of support vector classifier model\",test_accuracy)\n",
    "print(\"support vector classifier Classification report: \\n\",classification_report(svm_hat_clf,y_test))"
   ]
  },
  {
   "cell_type": "markdown",
   "id": "e763a977",
   "metadata": {},
   "source": [
    "## 4. Decision Tree"
   ]
  },
  {
   "cell_type": "code",
   "execution_count": 40,
   "id": "6497cc36",
   "metadata": {},
   "outputs": [],
   "source": [
    "from sklearn.tree import DecisionTreeClassifier\n",
    "# fit a model with default parameters\n",
    "dt = DecisionTreeClassifier()\n",
    "dt.fit(X_train,y_train)\n",
    "# Prediction on train data\n",
    "dt_train_predict = dt.predict(X_train)\n",
    "#Predict test data set.\n",
    "dt_test_predict = dt.predict(X_test)"
   ]
  },
  {
   "cell_type": "markdown",
   "id": "d4cfce94",
   "metadata": {},
   "source": [
    "### Training accuracy"
   ]
  },
  {
   "cell_type": "code",
   "execution_count": 41,
   "id": "15b69b4c",
   "metadata": {},
   "outputs": [
    {
     "name": "stdout",
     "output_type": "stream",
     "text": [
      "Training accuracy of Decision Tree Classifier model 1.0\n",
      "Decision Tree Classifier Classification report: \n",
      "               precision    recall  f1-score   support\n",
      "\n",
      "           2       1.00      1.00      1.00       690\n",
      "           3       1.00      1.00      1.00       701\n",
      "           4       1.00      1.00      1.00       706\n",
      "\n",
      "    accuracy                           1.00      2097\n",
      "   macro avg       1.00      1.00      1.00      2097\n",
      "weighted avg       1.00      1.00      1.00      2097\n",
      "\n"
     ]
    }
   ],
   "source": [
    "# import metrics\n",
    "from sklearn.metrics import accuracy_score,f1_score,recall_score,precision_score,classification_report,confusion_matrix\n",
    "dt_train_accuracy = accuracy_score(dt_train_predict,y_train)\n",
    "print(\"Training accuracy of Decision Tree Classifier model\",dt_train_accuracy)\n",
    "print(\"Decision Tree Classifier Classification report: \\n\",classification_report(dt_train_predict,y_train))"
   ]
  },
  {
   "cell_type": "markdown",
   "id": "61e62a94",
   "metadata": {},
   "source": [
    "### Testing accuracy"
   ]
  },
  {
   "cell_type": "code",
   "execution_count": 42,
   "id": "96283929",
   "metadata": {},
   "outputs": [
    {
     "name": "stdout",
     "output_type": "stream",
     "text": [
      "Testing accuracy of Decision Tree Classifier model 0.9295238095238095\n",
      "Decision Tree Classifier Classification report: \n",
      "               precision    recall  f1-score   support\n",
      "\n",
      "           2       0.96      0.97      0.96       182\n",
      "           3       0.90      0.91      0.90       172\n",
      "           4       0.93      0.91      0.92       171\n",
      "\n",
      "    accuracy                           0.93       525\n",
      "   macro avg       0.93      0.93      0.93       525\n",
      "weighted avg       0.93      0.93      0.93       525\n",
      "\n"
     ]
    }
   ],
   "source": [
    "dt_test_accuracy = accuracy_score(dt_test_predict,y_test)\n",
    "print(\"Testing accuracy of Decision Tree Classifier model\",dt_test_accuracy)\n",
    "print(\"Decision Tree Classifier Classification report: \\n\",classification_report(dt_test_predict,y_test))"
   ]
  },
  {
   "cell_type": "markdown",
   "id": "ad66a6e0",
   "metadata": {},
   "source": [
    "### Hyperparameter tunning with grid-search cv"
   ]
  },
  {
   "cell_type": "code",
   "execution_count": 43,
   "id": "c46e163a",
   "metadata": {},
   "outputs": [
    {
     "name": "stdout",
     "output_type": "stream",
     "text": [
      "Fitting 5 folds for each of 300 candidates, totalling 1500 fits\n"
     ]
    },
    {
     "data": {
      "text/plain": [
       "{'criterion': 'gini',\n",
       " 'max_depth': 3,\n",
       " 'min_samples_leaf': 3,\n",
       " 'min_samples_split': 8}"
      ]
     },
     "execution_count": 43,
     "metadata": {},
     "output_type": "execute_result"
    }
   ],
   "source": [
    "params = {'max_depth':[3,5,7,10,15],\n",
    "          'min_samples_leaf':[3,5,10,15,20],\n",
    "          'min_samples_split':[8,10,12,18,20,16],\n",
    "          'criterion':['gini','entropy']}\n",
    "\n",
    "dt = DecisionTreeClassifier()\n",
    "# create an instance of the grid search object\n",
    "g1 = GridSearchCV(dt, param_grid=params, cv=5, n_jobs=-1,verbose=True, scoring='f1')\n",
    "\n",
    "# conduct grid search over the parameter space\n",
    "g1.fit(X_train,y_train)\n",
    "\n",
    "# show best parameter configuration found for classifier\n",
    "cls_params1 = g1.best_params_\n",
    "cls_params1"
   ]
  },
  {
   "cell_type": "code",
   "execution_count": 44,
   "id": "1ba4736b",
   "metadata": {},
   "outputs": [],
   "source": [
    "# set the best parameter \n",
    "dt_clf = DecisionTreeClassifier(criterion= 'gini', max_depth= 3, min_samples_leaf= 3, min_samples_split= 8)\n",
    "# fit the model\n",
    "dt_clf.fit(X_train,y_train)\n",
    "# Predict the x test\n",
    "dt_hat_clf = dt_clf.predict(X_test)\n",
    "# Predict the x train\n",
    "dt_hat_train_clf = dt_clf.predict(X_train)"
   ]
  },
  {
   "cell_type": "markdown",
   "id": "fc303d39",
   "metadata": {},
   "source": [
    "### Training accuracy after Hyperparameter tunning"
   ]
  },
  {
   "cell_type": "code",
   "execution_count": 47,
   "id": "62873bd8",
   "metadata": {},
   "outputs": [
    {
     "name": "stdout",
     "output_type": "stream",
     "text": [
      "Training accuracy of Decision Tree Classifier model 0.8974725798760134\n",
      "Decision Tree Classifier Classification report: \n",
      "               precision    recall  f1-score   support\n",
      "\n",
      "           2       0.98      0.87      0.92       777\n",
      "           3       0.87      0.87      0.87       702\n",
      "           4       0.85      0.97      0.90       618\n",
      "\n",
      "    accuracy                           0.90      2097\n",
      "   macro avg       0.90      0.90      0.90      2097\n",
      "weighted avg       0.90      0.90      0.90      2097\n",
      "\n"
     ]
    }
   ],
   "source": [
    "train_accuracy = accuracy_score(dt_hat_train_clf,y_train)\n",
    "print(\"Training accuracy of Decision Tree Classifier model\",train_accuracy)\n",
    "print(\"Decision Tree Classifier Classification report: \\n\",classification_report(dt_hat_train_clf,y_train))"
   ]
  },
  {
   "cell_type": "markdown",
   "id": "532f2f5f",
   "metadata": {},
   "source": [
    "### Testing accuracy after Hyperparameter tunning"
   ]
  },
  {
   "cell_type": "code",
   "execution_count": 46,
   "id": "33754238",
   "metadata": {},
   "outputs": [
    {
     "name": "stdout",
     "output_type": "stream",
     "text": [
      "Testing accuracy of Decision Tree Classifier model 0.8990476190476191\n",
      "Decision Tree Classifier Classification report: \n",
      "               precision    recall  f1-score   support\n",
      "\n",
      "           2       0.98      0.89      0.94       203\n",
      "           3       0.87      0.86      0.86       174\n",
      "           4       0.84      0.95      0.89       148\n",
      "\n",
      "    accuracy                           0.90       525\n",
      "   macro avg       0.90      0.90      0.90       525\n",
      "weighted avg       0.90      0.90      0.90       525\n",
      "\n"
     ]
    }
   ],
   "source": [
    "test_accuracy = accuracy_score(dt_hat_clf ,y_test)\n",
    "print(\"Testing accuracy of Decision Tree Classifier model\",test_accuracy)\n",
    "print(\"Decision Tree Classifier Classification report: \\n\",classification_report(dt_hat_clf,y_test))"
   ]
  },
  {
   "cell_type": "code",
   "execution_count": null,
   "id": "a65a1af3",
   "metadata": {},
   "outputs": [],
   "source": []
  },
  {
   "cell_type": "markdown",
   "id": "2445cf4b",
   "metadata": {},
   "source": [
    "## 5. Random Forest with GridSearchCV"
   ]
  },
  {
   "cell_type": "code",
   "execution_count": 98,
   "id": "19fc78de",
   "metadata": {},
   "outputs": [
    {
     "name": "stdout",
     "output_type": "stream",
     "text": [
      "Fitting 3 folds for each of 384 candidates, totalling 1152 fits\n",
      "Best parameter: {'bootstrap': True, 'criterion': 'entropy', 'max_depth': 110, 'min_samples_leaf': 3, 'min_samples_split': 4, 'n_estimators': 200}\n"
     ]
    }
   ],
   "source": [
    "# import library and imputation of parameter\n",
    "from sklearn.ensemble import RandomForestClassifier\n",
    "from sklearn.model_selection import GridSearchCV\n",
    "# Create the parameter grid based on the results of random search \n",
    "param_grid = {'criterion':['gini','entropy'],\n",
    "    'bootstrap': [True],\n",
    "    'max_depth': [80, 90, 100, 110],\n",
    "    'min_samples_leaf': [3,5,10],\n",
    "    'min_samples_split': [4,8,10,12],\n",
    "    'n_estimators': [100, 200, 300, 1000]\n",
    "}\n",
    "# Create a based model\n",
    "rf = RandomForestClassifier()\n",
    "# Instantiate the grid search model\n",
    "grid_search = GridSearchCV(estimator = rf, param_grid = param_grid, \n",
    "                          cv = 3, n_jobs = -1, verbose = 2)\n",
    "# Fitting the training data\n",
    "grid_search.fit(X_train,y_train)\n",
    "\n",
    "# Get best parameter\n",
    "rf_best_params = grid_search.best_params_\n",
    "print(f\"Best parameter: {rf_best_params}\")"
   ]
  },
  {
   "cell_type": "code",
   "execution_count": 105,
   "id": "ad439f98",
   "metadata": {},
   "outputs": [],
   "source": [
    "# Create object and place the best paramter\n",
    "rf_clf = RandomForestClassifier(bootstrap = True, criterion = 'entropy', max_depth = 110,  min_samples_leaf = 3, \n",
    "                                min_samples_split = 4, n_estimators = 200)\n",
    "# Fitting the training data\n",
    "rf_clf.fit(X_train,y_train)\n",
    "# Prediction on test data\n",
    "rf_clf_predict = rf_clf.predict(X_test)\n",
    "#  prediction on training data\n",
    "rf_clf_train_predict = rf_clf.predict(X_train)"
   ]
  },
  {
   "cell_type": "markdown",
   "id": "67ebe169",
   "metadata": {},
   "source": [
    "### Training accuracy after Hyperparameter tunning"
   ]
  },
  {
   "cell_type": "code",
   "execution_count": 106,
   "id": "3c30afae",
   "metadata": {},
   "outputs": [
    {
     "name": "stdout",
     "output_type": "stream",
     "text": [
      "Testing accuracy of random forest 0.9785407725321889\n",
      "Classification report of testing: \n",
      "               precision    recall  f1-score   support\n",
      "\n",
      "           2       0.99      0.97      0.98       705\n",
      "           3       0.97      0.97      0.97       697\n",
      "           4       0.98      0.99      0.99       695\n",
      "\n",
      "    accuracy                           0.98      2097\n",
      "   macro avg       0.98      0.98      0.98      2097\n",
      "weighted avg       0.98      0.98      0.98      2097\n",
      "\n"
     ]
    }
   ],
   "source": [
    "train_accuracy = accuracy_score(rf_clf_train_predict,y_train)\n",
    "print(\"Testing accuracy of random forest\",train_accuracy)\n",
    "print(\"Classification report of testing: \\n\",classification_report(rf_clf_train_predict,y_train))"
   ]
  },
  {
   "cell_type": "markdown",
   "id": "3b212213",
   "metadata": {},
   "source": [
    "### Testing accuracy after Hyperparameter tunning"
   ]
  },
  {
   "cell_type": "code",
   "execution_count": 107,
   "id": "096584e4",
   "metadata": {},
   "outputs": [
    {
     "name": "stdout",
     "output_type": "stream",
     "text": [
      "Testing accuracy of random forest 0.9371428571428572\n",
      "Classification report of testing: \n",
      "               precision    recall  f1-score   support\n",
      "\n",
      "           2       0.96      0.94      0.95       188\n",
      "           3       0.94      0.89      0.91       182\n",
      "           4       0.91      0.99      0.95       155\n",
      "\n",
      "    accuracy                           0.94       525\n",
      "   macro avg       0.94      0.94      0.94       525\n",
      "weighted avg       0.94      0.94      0.94       525\n",
      "\n"
     ]
    }
   ],
   "source": [
    "test_accuracy = accuracy_score(rf_clf_predict,y_test)\n",
    "print(\"Testing accuracy of random forest\",test_accuracy)\n",
    "print(\"Classification report of testing: \\n\",classification_report(rf_clf_predict,y_test))"
   ]
  },
  {
   "cell_type": "code",
   "execution_count": 87,
   "id": "850f6fcd",
   "metadata": {},
   "outputs": [
    {
     "data": {
      "text/html": [
       "<div>\n",
       "<style scoped>\n",
       "    .dataframe tbody tr th:only-of-type {\n",
       "        vertical-align: middle;\n",
       "    }\n",
       "\n",
       "    .dataframe tbody tr th {\n",
       "        vertical-align: top;\n",
       "    }\n",
       "\n",
       "    .dataframe thead th {\n",
       "        text-align: right;\n",
       "    }\n",
       "</style>\n",
       "<table border=\"1\" class=\"dataframe\">\n",
       "  <thead>\n",
       "    <tr style=\"text-align: right;\">\n",
       "      <th>PerformanceRating</th>\n",
       "      <th>2</th>\n",
       "      <th>3</th>\n",
       "      <th>4</th>\n",
       "    </tr>\n",
       "    <tr>\n",
       "      <th>row_0</th>\n",
       "      <th></th>\n",
       "      <th></th>\n",
       "      <th></th>\n",
       "    </tr>\n",
       "  </thead>\n",
       "  <tbody>\n",
       "    <tr>\n",
       "      <th>2</th>\n",
       "      <td>178</td>\n",
       "      <td>10</td>\n",
       "      <td>2</td>\n",
       "    </tr>\n",
       "    <tr>\n",
       "      <th>3</th>\n",
       "      <td>6</td>\n",
       "      <td>161</td>\n",
       "      <td>10</td>\n",
       "    </tr>\n",
       "    <tr>\n",
       "      <th>4</th>\n",
       "      <td>0</td>\n",
       "      <td>2</td>\n",
       "      <td>156</td>\n",
       "    </tr>\n",
       "  </tbody>\n",
       "</table>\n",
       "</div>"
      ],
      "text/plain": [
       "PerformanceRating    2    3    4\n",
       "row_0                           \n",
       "2                  178   10    2\n",
       "3                    6  161   10\n",
       "4                    0    2  156"
      ]
     },
     "execution_count": 87,
     "metadata": {},
     "output_type": "execute_result"
    }
   ],
   "source": [
    "pd.crosstab(rf_clf_predict,y_test)"
   ]
  },
  {
   "cell_type": "markdown",
   "id": "1db71c9f",
   "metadata": {},
   "source": [
    "## 6. XGBoost Classifier with GridSearch CV"
   ]
  },
  {
   "cell_type": "code",
   "execution_count": 35,
   "id": "eae84f61",
   "metadata": {},
   "outputs": [],
   "source": [
    "from sklearn.preprocessing import LabelEncoder\n",
    "le = LabelEncoder()\n",
    "xgb_y_train = le.fit_transform(y_train)\n",
    "xgb_y_test = le.fit_transform(y_test)  "
   ]
  },
  {
   "cell_type": "markdown",
   "id": "50f92dc0",
   "metadata": {},
   "source": [
    "Doing label encoding because the y_train must be encoded(column has to start from 0). An easy way to solve that is using LabelEncoder from sklearn.preprocssing library."
   ]
  },
  {
   "cell_type": "code",
   "execution_count": 36,
   "id": "b58c1e1a",
   "metadata": {},
   "outputs": [
    {
     "data": {
      "text/plain": [
       "array([0, 0, 1, 1, 1, 1, 0, 1, 2, 1, 0, 1, 2, 2, 0, 0, 0, 1, 2, 0],\n",
       "      dtype=int64)"
      ]
     },
     "execution_count": 36,
     "metadata": {},
     "output_type": "execute_result"
    }
   ],
   "source": [
    "xgb_y_train[0:20]      # values are encoded in 0,1,2"
   ]
  },
  {
   "cell_type": "code",
   "execution_count": 48,
   "id": "243e84fc",
   "metadata": {},
   "outputs": [
    {
     "name": "stdout",
     "output_type": "stream",
     "text": [
      "Fitting 5 folds for each of 27 candidates, totalling 135 fits\n",
      "Best set of hyperparameters:  {'learning_rate': 0.1, 'max_depth': 3, 'subsample': 0.5}\n",
      "Best score:  nan\n"
     ]
    }
   ],
   "source": [
    "import xgboost as xgb\n",
    "from sklearn.model_selection import GridSearchCV\n",
    "\n",
    "# Define the hyperparameter grid\n",
    "param_grid = {\n",
    "    'max_depth': [3, 5, 7],\n",
    "    'learning_rate': [0.1, 0.01, 0.001],\n",
    "    'subsample': [0.5, 0.7, 1]\n",
    "}\n",
    "\n",
    "# Create the XGBoost model object\n",
    "xgb_model = xgb.XGBClassifier()\n",
    "\n",
    "# Create the GridSearchCV object\n",
    "grid_search = GridSearchCV(xgb_model, param_grid, cv=5, scoring='f1', n_jobs = -1, verbose = 2)\n",
    "\n",
    "# Fit the GridSearchCV object to the training data\n",
    "grid_search.fit(X_train, xgb_y_train)\n",
    "\n",
    "# Print the best set of hyperparameters and the corresponding score\n",
    "print(\"Best set of hyperparameters: \", grid_search.best_params_)\n",
    "print(\"Best score: \", grid_search.best_score_)"
   ]
  },
  {
   "cell_type": "code",
   "execution_count": 49,
   "id": "5f14f86f",
   "metadata": {},
   "outputs": [],
   "source": [
    "# Create object and place the best paramter\n",
    "xgb_clf = xgb.XGBClassifier(learning_rate= 0.1, max_depth= 3, subsample=0.5)\n",
    "\n",
    "# Fitting the training data\n",
    "xgb_clf.fit(X_train,xgb_y_train)\n",
    "# Prediction on test data\n",
    "xgb_clf_predict = xgb_clf.predict(X_test)\n",
    "#  prediction on training data\n",
    "xgb_clf_train_predict = xgb_clf.predict(X_train)"
   ]
  },
  {
   "cell_type": "markdown",
   "id": "e5f09f0f",
   "metadata": {},
   "source": [
    "### Training accuracy after Hyperparameter tunning"
   ]
  },
  {
   "cell_type": "code",
   "execution_count": 50,
   "id": "b0159554",
   "metadata": {},
   "outputs": [
    {
     "name": "stdout",
     "output_type": "stream",
     "text": [
      "Training accuracy of XGBoost Classifier model 0.9647114926084883\n",
      "XGBoost Classifier Classification report: \n",
      "               precision    recall  f1-score   support\n",
      "\n",
      "           0       0.99      0.95      0.97       719\n",
      "           1       0.95      0.96      0.95       695\n",
      "           2       0.95      0.99      0.97       683\n",
      "\n",
      "    accuracy                           0.96      2097\n",
      "   macro avg       0.96      0.96      0.96      2097\n",
      "weighted avg       0.97      0.96      0.96      2097\n",
      "\n"
     ]
    }
   ],
   "source": [
    "# import metrics\n",
    "from sklearn.metrics import accuracy_score,f1_score,recall_score,precision_score,classification_report,confusion_matrix\n",
    "xgb_train_accuracy = accuracy_score(xgb_clf_train_predict, xgb_y_train)\n",
    "print(\"Training accuracy of XGBoost Classifier model\",xgb_train_accuracy)\n",
    "print(\"XGBoost Classifier Classification report: \\n\",classification_report(xgb_clf_train_predict, xgb_y_train))"
   ]
  },
  {
   "cell_type": "markdown",
   "id": "5572e3a4",
   "metadata": {},
   "source": [
    "### Testing accuracy after Hyperparameter tunning"
   ]
  },
  {
   "cell_type": "code",
   "execution_count": 51,
   "id": "d73154c1",
   "metadata": {},
   "outputs": [
    {
     "name": "stdout",
     "output_type": "stream",
     "text": [
      "Testing accuracy of XGBoost Classifier 0.9542857142857143\n",
      "Classification report of testing: \n",
      "               precision    recall  f1-score   support\n",
      "\n",
      "           0       0.99      0.95      0.97       192\n",
      "           1       0.92      0.95      0.94       169\n",
      "           2       0.95      0.97      0.96       164\n",
      "\n",
      "    accuracy                           0.95       525\n",
      "   macro avg       0.95      0.95      0.95       525\n",
      "weighted avg       0.96      0.95      0.95       525\n",
      "\n"
     ]
    }
   ],
   "source": [
    "test_accuracy = accuracy_score(xgb_clf_predict, xgb_y_test)\n",
    "print(\"Testing accuracy of XGBoost Classifier\",test_accuracy)\n",
    "print(\"Classification report of testing: \\n\",classification_report(xgb_clf_predict, xgb_y_test))"
   ]
  },
  {
   "cell_type": "code",
   "execution_count": 41,
   "id": "252db65c",
   "metadata": {},
   "outputs": [
    {
     "data": {
      "text/html": [
       "<div>\n",
       "<style scoped>\n",
       "    .dataframe tbody tr th:only-of-type {\n",
       "        vertical-align: middle;\n",
       "    }\n",
       "\n",
       "    .dataframe tbody tr th {\n",
       "        vertical-align: top;\n",
       "    }\n",
       "\n",
       "    .dataframe thead th {\n",
       "        text-align: right;\n",
       "    }\n",
       "</style>\n",
       "<table border=\"1\" class=\"dataframe\">\n",
       "  <thead>\n",
       "    <tr style=\"text-align: right;\">\n",
       "      <th>col_0</th>\n",
       "      <th>0</th>\n",
       "      <th>1</th>\n",
       "      <th>2</th>\n",
       "    </tr>\n",
       "    <tr>\n",
       "      <th>row_0</th>\n",
       "      <th></th>\n",
       "      <th></th>\n",
       "      <th></th>\n",
       "    </tr>\n",
       "  </thead>\n",
       "  <tbody>\n",
       "    <tr>\n",
       "      <th>0</th>\n",
       "      <td>183</td>\n",
       "      <td>8</td>\n",
       "      <td>2</td>\n",
       "    </tr>\n",
       "    <tr>\n",
       "      <th>1</th>\n",
       "      <td>1</td>\n",
       "      <td>158</td>\n",
       "      <td>5</td>\n",
       "    </tr>\n",
       "    <tr>\n",
       "      <th>2</th>\n",
       "      <td>0</td>\n",
       "      <td>7</td>\n",
       "      <td>161</td>\n",
       "    </tr>\n",
       "  </tbody>\n",
       "</table>\n",
       "</div>"
      ],
      "text/plain": [
       "col_0    0    1    2\n",
       "row_0               \n",
       "0      183    8    2\n",
       "1        1  158    5\n",
       "2        0    7  161"
      ]
     },
     "execution_count": 41,
     "metadata": {},
     "output_type": "execute_result"
    }
   ],
   "source": [
    "pd.crosstab(xgb_clf_predict,xgb_y_test)"
   ]
  },
  {
   "cell_type": "markdown",
   "id": "1417ab38",
   "metadata": {},
   "source": [
    "## 7. Artificial Neural Network"
   ]
  },
  {
   "cell_type": "code",
   "execution_count": 22,
   "id": "4550c4bc",
   "metadata": {},
   "outputs": [],
   "source": [
    "# Importing library and object creation\n",
    "from sklearn.neural_network import MLPClassifier\n",
    "model =  MLPClassifier(hidden_layer_sizes=(100,100,100),batch_size=10,learning_rate_init=0.01,max_iter=2000,random_state=10)"
   ]
  },
  {
   "cell_type": "code",
   "execution_count": 23,
   "id": "359aef42",
   "metadata": {},
   "outputs": [
    {
     "data": {
      "text/html": [
       "<style>#sk-container-id-1 {\n",
       "  /* Definition of color scheme common for light and dark mode */\n",
       "  --sklearn-color-text: black;\n",
       "  --sklearn-color-line: gray;\n",
       "  /* Definition of color scheme for unfitted estimators */\n",
       "  --sklearn-color-unfitted-level-0: #fff5e6;\n",
       "  --sklearn-color-unfitted-level-1: #f6e4d2;\n",
       "  --sklearn-color-unfitted-level-2: #ffe0b3;\n",
       "  --sklearn-color-unfitted-level-3: chocolate;\n",
       "  /* Definition of color scheme for fitted estimators */\n",
       "  --sklearn-color-fitted-level-0: #f0f8ff;\n",
       "  --sklearn-color-fitted-level-1: #d4ebff;\n",
       "  --sklearn-color-fitted-level-2: #b3dbfd;\n",
       "  --sklearn-color-fitted-level-3: cornflowerblue;\n",
       "\n",
       "  /* Specific color for light theme */\n",
       "  --sklearn-color-text-on-default-background: var(--sg-text-color, var(--theme-code-foreground, var(--jp-content-font-color1, black)));\n",
       "  --sklearn-color-background: var(--sg-background-color, var(--theme-background, var(--jp-layout-color0, white)));\n",
       "  --sklearn-color-border-box: var(--sg-text-color, var(--theme-code-foreground, var(--jp-content-font-color1, black)));\n",
       "  --sklearn-color-icon: #696969;\n",
       "\n",
       "  @media (prefers-color-scheme: dark) {\n",
       "    /* Redefinition of color scheme for dark theme */\n",
       "    --sklearn-color-text-on-default-background: var(--sg-text-color, var(--theme-code-foreground, var(--jp-content-font-color1, white)));\n",
       "    --sklearn-color-background: var(--sg-background-color, var(--theme-background, var(--jp-layout-color0, #111)));\n",
       "    --sklearn-color-border-box: var(--sg-text-color, var(--theme-code-foreground, var(--jp-content-font-color1, white)));\n",
       "    --sklearn-color-icon: #878787;\n",
       "  }\n",
       "}\n",
       "\n",
       "#sk-container-id-1 {\n",
       "  color: var(--sklearn-color-text);\n",
       "}\n",
       "\n",
       "#sk-container-id-1 pre {\n",
       "  padding: 0;\n",
       "}\n",
       "\n",
       "#sk-container-id-1 input.sk-hidden--visually {\n",
       "  border: 0;\n",
       "  clip: rect(1px 1px 1px 1px);\n",
       "  clip: rect(1px, 1px, 1px, 1px);\n",
       "  height: 1px;\n",
       "  margin: -1px;\n",
       "  overflow: hidden;\n",
       "  padding: 0;\n",
       "  position: absolute;\n",
       "  width: 1px;\n",
       "}\n",
       "\n",
       "#sk-container-id-1 div.sk-dashed-wrapped {\n",
       "  border: 1px dashed var(--sklearn-color-line);\n",
       "  margin: 0 0.4em 0.5em 0.4em;\n",
       "  box-sizing: border-box;\n",
       "  padding-bottom: 0.4em;\n",
       "  background-color: var(--sklearn-color-background);\n",
       "}\n",
       "\n",
       "#sk-container-id-1 div.sk-container {\n",
       "  /* jupyter's `normalize.less` sets `[hidden] { display: none; }`\n",
       "     but bootstrap.min.css set `[hidden] { display: none !important; }`\n",
       "     so we also need the `!important` here to be able to override the\n",
       "     default hidden behavior on the sphinx rendered scikit-learn.org.\n",
       "     See: https://github.com/scikit-learn/scikit-learn/issues/21755 */\n",
       "  display: inline-block !important;\n",
       "  position: relative;\n",
       "}\n",
       "\n",
       "#sk-container-id-1 div.sk-text-repr-fallback {\n",
       "  display: none;\n",
       "}\n",
       "\n",
       "div.sk-parallel-item,\n",
       "div.sk-serial,\n",
       "div.sk-item {\n",
       "  /* draw centered vertical line to link estimators */\n",
       "  background-image: linear-gradient(var(--sklearn-color-text-on-default-background), var(--sklearn-color-text-on-default-background));\n",
       "  background-size: 2px 100%;\n",
       "  background-repeat: no-repeat;\n",
       "  background-position: center center;\n",
       "}\n",
       "\n",
       "/* Parallel-specific style estimator block */\n",
       "\n",
       "#sk-container-id-1 div.sk-parallel-item::after {\n",
       "  content: \"\";\n",
       "  width: 100%;\n",
       "  border-bottom: 2px solid var(--sklearn-color-text-on-default-background);\n",
       "  flex-grow: 1;\n",
       "}\n",
       "\n",
       "#sk-container-id-1 div.sk-parallel {\n",
       "  display: flex;\n",
       "  align-items: stretch;\n",
       "  justify-content: center;\n",
       "  background-color: var(--sklearn-color-background);\n",
       "  position: relative;\n",
       "}\n",
       "\n",
       "#sk-container-id-1 div.sk-parallel-item {\n",
       "  display: flex;\n",
       "  flex-direction: column;\n",
       "}\n",
       "\n",
       "#sk-container-id-1 div.sk-parallel-item:first-child::after {\n",
       "  align-self: flex-end;\n",
       "  width: 50%;\n",
       "}\n",
       "\n",
       "#sk-container-id-1 div.sk-parallel-item:last-child::after {\n",
       "  align-self: flex-start;\n",
       "  width: 50%;\n",
       "}\n",
       "\n",
       "#sk-container-id-1 div.sk-parallel-item:only-child::after {\n",
       "  width: 0;\n",
       "}\n",
       "\n",
       "/* Serial-specific style estimator block */\n",
       "\n",
       "#sk-container-id-1 div.sk-serial {\n",
       "  display: flex;\n",
       "  flex-direction: column;\n",
       "  align-items: center;\n",
       "  background-color: var(--sklearn-color-background);\n",
       "  padding-right: 1em;\n",
       "  padding-left: 1em;\n",
       "}\n",
       "\n",
       "\n",
       "/* Toggleable style: style used for estimator/Pipeline/ColumnTransformer box that is\n",
       "clickable and can be expanded/collapsed.\n",
       "- Pipeline and ColumnTransformer use this feature and define the default style\n",
       "- Estimators will overwrite some part of the style using the `sk-estimator` class\n",
       "*/\n",
       "\n",
       "/* Pipeline and ColumnTransformer style (default) */\n",
       "\n",
       "#sk-container-id-1 div.sk-toggleable {\n",
       "  /* Default theme specific background. It is overwritten whether we have a\n",
       "  specific estimator or a Pipeline/ColumnTransformer */\n",
       "  background-color: var(--sklearn-color-background);\n",
       "}\n",
       "\n",
       "/* Toggleable label */\n",
       "#sk-container-id-1 label.sk-toggleable__label {\n",
       "  cursor: pointer;\n",
       "  display: block;\n",
       "  width: 100%;\n",
       "  margin-bottom: 0;\n",
       "  padding: 0.5em;\n",
       "  box-sizing: border-box;\n",
       "  text-align: center;\n",
       "}\n",
       "\n",
       "#sk-container-id-1 label.sk-toggleable__label-arrow:before {\n",
       "  /* Arrow on the left of the label */\n",
       "  content: \"▸\";\n",
       "  float: left;\n",
       "  margin-right: 0.25em;\n",
       "  color: var(--sklearn-color-icon);\n",
       "}\n",
       "\n",
       "#sk-container-id-1 label.sk-toggleable__label-arrow:hover:before {\n",
       "  color: var(--sklearn-color-text);\n",
       "}\n",
       "\n",
       "/* Toggleable content - dropdown */\n",
       "\n",
       "#sk-container-id-1 div.sk-toggleable__content {\n",
       "  max-height: 0;\n",
       "  max-width: 0;\n",
       "  overflow: hidden;\n",
       "  text-align: left;\n",
       "  /* unfitted */\n",
       "  background-color: var(--sklearn-color-unfitted-level-0);\n",
       "}\n",
       "\n",
       "#sk-container-id-1 div.sk-toggleable__content.fitted {\n",
       "  /* fitted */\n",
       "  background-color: var(--sklearn-color-fitted-level-0);\n",
       "}\n",
       "\n",
       "#sk-container-id-1 div.sk-toggleable__content pre {\n",
       "  margin: 0.2em;\n",
       "  border-radius: 0.25em;\n",
       "  color: var(--sklearn-color-text);\n",
       "  /* unfitted */\n",
       "  background-color: var(--sklearn-color-unfitted-level-0);\n",
       "}\n",
       "\n",
       "#sk-container-id-1 div.sk-toggleable__content.fitted pre {\n",
       "  /* unfitted */\n",
       "  background-color: var(--sklearn-color-fitted-level-0);\n",
       "}\n",
       "\n",
       "#sk-container-id-1 input.sk-toggleable__control:checked~div.sk-toggleable__content {\n",
       "  /* Expand drop-down */\n",
       "  max-height: 200px;\n",
       "  max-width: 100%;\n",
       "  overflow: auto;\n",
       "}\n",
       "\n",
       "#sk-container-id-1 input.sk-toggleable__control:checked~label.sk-toggleable__label-arrow:before {\n",
       "  content: \"▾\";\n",
       "}\n",
       "\n",
       "/* Pipeline/ColumnTransformer-specific style */\n",
       "\n",
       "#sk-container-id-1 div.sk-label input.sk-toggleable__control:checked~label.sk-toggleable__label {\n",
       "  color: var(--sklearn-color-text);\n",
       "  background-color: var(--sklearn-color-unfitted-level-2);\n",
       "}\n",
       "\n",
       "#sk-container-id-1 div.sk-label.fitted input.sk-toggleable__control:checked~label.sk-toggleable__label {\n",
       "  background-color: var(--sklearn-color-fitted-level-2);\n",
       "}\n",
       "\n",
       "/* Estimator-specific style */\n",
       "\n",
       "/* Colorize estimator box */\n",
       "#sk-container-id-1 div.sk-estimator input.sk-toggleable__control:checked~label.sk-toggleable__label {\n",
       "  /* unfitted */\n",
       "  background-color: var(--sklearn-color-unfitted-level-2);\n",
       "}\n",
       "\n",
       "#sk-container-id-1 div.sk-estimator.fitted input.sk-toggleable__control:checked~label.sk-toggleable__label {\n",
       "  /* fitted */\n",
       "  background-color: var(--sklearn-color-fitted-level-2);\n",
       "}\n",
       "\n",
       "#sk-container-id-1 div.sk-label label.sk-toggleable__label,\n",
       "#sk-container-id-1 div.sk-label label {\n",
       "  /* The background is the default theme color */\n",
       "  color: var(--sklearn-color-text-on-default-background);\n",
       "}\n",
       "\n",
       "/* On hover, darken the color of the background */\n",
       "#sk-container-id-1 div.sk-label:hover label.sk-toggleable__label {\n",
       "  color: var(--sklearn-color-text);\n",
       "  background-color: var(--sklearn-color-unfitted-level-2);\n",
       "}\n",
       "\n",
       "/* Label box, darken color on hover, fitted */\n",
       "#sk-container-id-1 div.sk-label.fitted:hover label.sk-toggleable__label.fitted {\n",
       "  color: var(--sklearn-color-text);\n",
       "  background-color: var(--sklearn-color-fitted-level-2);\n",
       "}\n",
       "\n",
       "/* Estimator label */\n",
       "\n",
       "#sk-container-id-1 div.sk-label label {\n",
       "  font-family: monospace;\n",
       "  font-weight: bold;\n",
       "  display: inline-block;\n",
       "  line-height: 1.2em;\n",
       "}\n",
       "\n",
       "#sk-container-id-1 div.sk-label-container {\n",
       "  text-align: center;\n",
       "}\n",
       "\n",
       "/* Estimator-specific */\n",
       "#sk-container-id-1 div.sk-estimator {\n",
       "  font-family: monospace;\n",
       "  border: 1px dotted var(--sklearn-color-border-box);\n",
       "  border-radius: 0.25em;\n",
       "  box-sizing: border-box;\n",
       "  margin-bottom: 0.5em;\n",
       "  /* unfitted */\n",
       "  background-color: var(--sklearn-color-unfitted-level-0);\n",
       "}\n",
       "\n",
       "#sk-container-id-1 div.sk-estimator.fitted {\n",
       "  /* fitted */\n",
       "  background-color: var(--sklearn-color-fitted-level-0);\n",
       "}\n",
       "\n",
       "/* on hover */\n",
       "#sk-container-id-1 div.sk-estimator:hover {\n",
       "  /* unfitted */\n",
       "  background-color: var(--sklearn-color-unfitted-level-2);\n",
       "}\n",
       "\n",
       "#sk-container-id-1 div.sk-estimator.fitted:hover {\n",
       "  /* fitted */\n",
       "  background-color: var(--sklearn-color-fitted-level-2);\n",
       "}\n",
       "\n",
       "/* Specification for estimator info (e.g. \"i\" and \"?\") */\n",
       "\n",
       "/* Common style for \"i\" and \"?\" */\n",
       "\n",
       ".sk-estimator-doc-link,\n",
       "a:link.sk-estimator-doc-link,\n",
       "a:visited.sk-estimator-doc-link {\n",
       "  float: right;\n",
       "  font-size: smaller;\n",
       "  line-height: 1em;\n",
       "  font-family: monospace;\n",
       "  background-color: var(--sklearn-color-background);\n",
       "  border-radius: 1em;\n",
       "  height: 1em;\n",
       "  width: 1em;\n",
       "  text-decoration: none !important;\n",
       "  margin-left: 1ex;\n",
       "  /* unfitted */\n",
       "  border: var(--sklearn-color-unfitted-level-1) 1pt solid;\n",
       "  color: var(--sklearn-color-unfitted-level-1);\n",
       "}\n",
       "\n",
       ".sk-estimator-doc-link.fitted,\n",
       "a:link.sk-estimator-doc-link.fitted,\n",
       "a:visited.sk-estimator-doc-link.fitted {\n",
       "  /* fitted */\n",
       "  border: var(--sklearn-color-fitted-level-1) 1pt solid;\n",
       "  color: var(--sklearn-color-fitted-level-1);\n",
       "}\n",
       "\n",
       "/* On hover */\n",
       "div.sk-estimator:hover .sk-estimator-doc-link:hover,\n",
       ".sk-estimator-doc-link:hover,\n",
       "div.sk-label-container:hover .sk-estimator-doc-link:hover,\n",
       ".sk-estimator-doc-link:hover {\n",
       "  /* unfitted */\n",
       "  background-color: var(--sklearn-color-unfitted-level-3);\n",
       "  color: var(--sklearn-color-background);\n",
       "  text-decoration: none;\n",
       "}\n",
       "\n",
       "div.sk-estimator.fitted:hover .sk-estimator-doc-link.fitted:hover,\n",
       ".sk-estimator-doc-link.fitted:hover,\n",
       "div.sk-label-container:hover .sk-estimator-doc-link.fitted:hover,\n",
       ".sk-estimator-doc-link.fitted:hover {\n",
       "  /* fitted */\n",
       "  background-color: var(--sklearn-color-fitted-level-3);\n",
       "  color: var(--sklearn-color-background);\n",
       "  text-decoration: none;\n",
       "}\n",
       "\n",
       "/* Span, style for the box shown on hovering the info icon */\n",
       ".sk-estimator-doc-link span {\n",
       "  display: none;\n",
       "  z-index: 9999;\n",
       "  position: relative;\n",
       "  font-weight: normal;\n",
       "  right: .2ex;\n",
       "  padding: .5ex;\n",
       "  margin: .5ex;\n",
       "  width: min-content;\n",
       "  min-width: 20ex;\n",
       "  max-width: 50ex;\n",
       "  color: var(--sklearn-color-text);\n",
       "  box-shadow: 2pt 2pt 4pt #999;\n",
       "  /* unfitted */\n",
       "  background: var(--sklearn-color-unfitted-level-0);\n",
       "  border: .5pt solid var(--sklearn-color-unfitted-level-3);\n",
       "}\n",
       "\n",
       ".sk-estimator-doc-link.fitted span {\n",
       "  /* fitted */\n",
       "  background: var(--sklearn-color-fitted-level-0);\n",
       "  border: var(--sklearn-color-fitted-level-3);\n",
       "}\n",
       "\n",
       ".sk-estimator-doc-link:hover span {\n",
       "  display: block;\n",
       "}\n",
       "\n",
       "/* \"?\"-specific style due to the `<a>` HTML tag */\n",
       "\n",
       "#sk-container-id-1 a.estimator_doc_link {\n",
       "  float: right;\n",
       "  font-size: 1rem;\n",
       "  line-height: 1em;\n",
       "  font-family: monospace;\n",
       "  background-color: var(--sklearn-color-background);\n",
       "  border-radius: 1rem;\n",
       "  height: 1rem;\n",
       "  width: 1rem;\n",
       "  text-decoration: none;\n",
       "  /* unfitted */\n",
       "  color: var(--sklearn-color-unfitted-level-1);\n",
       "  border: var(--sklearn-color-unfitted-level-1) 1pt solid;\n",
       "}\n",
       "\n",
       "#sk-container-id-1 a.estimator_doc_link.fitted {\n",
       "  /* fitted */\n",
       "  border: var(--sklearn-color-fitted-level-1) 1pt solid;\n",
       "  color: var(--sklearn-color-fitted-level-1);\n",
       "}\n",
       "\n",
       "/* On hover */\n",
       "#sk-container-id-1 a.estimator_doc_link:hover {\n",
       "  /* unfitted */\n",
       "  background-color: var(--sklearn-color-unfitted-level-3);\n",
       "  color: var(--sklearn-color-background);\n",
       "  text-decoration: none;\n",
       "}\n",
       "\n",
       "#sk-container-id-1 a.estimator_doc_link.fitted:hover {\n",
       "  /* fitted */\n",
       "  background-color: var(--sklearn-color-fitted-level-3);\n",
       "}\n",
       "</style><div id=\"sk-container-id-1\" class=\"sk-top-container\"><div class=\"sk-text-repr-fallback\"><pre>MLPClassifier(batch_size=10, hidden_layer_sizes=(100, 100, 100),\n",
       "              learning_rate_init=0.01, max_iter=2000, random_state=10)</pre><b>In a Jupyter environment, please rerun this cell to show the HTML representation or trust the notebook. <br />On GitHub, the HTML representation is unable to render, please try loading this page with nbviewer.org.</b></div><div class=\"sk-container\" hidden><div class=\"sk-item\"><div class=\"sk-estimator fitted sk-toggleable\"><input class=\"sk-toggleable__control sk-hidden--visually\" id=\"sk-estimator-id-1\" type=\"checkbox\" checked><label for=\"sk-estimator-id-1\" class=\"sk-toggleable__label fitted sk-toggleable__label-arrow fitted\">&nbsp;&nbsp;MLPClassifier<a class=\"sk-estimator-doc-link fitted\" rel=\"noreferrer\" target=\"_blank\" href=\"https://scikit-learn.org/1.4/modules/generated/sklearn.neural_network.MLPClassifier.html\">?<span>Documentation for MLPClassifier</span></a><span class=\"sk-estimator-doc-link fitted\">i<span>Fitted</span></span></label><div class=\"sk-toggleable__content fitted\"><pre>MLPClassifier(batch_size=10, hidden_layer_sizes=(100, 100, 100),\n",
       "              learning_rate_init=0.01, max_iter=2000, random_state=10)</pre></div> </div></div></div></div>"
      ],
      "text/plain": [
       "MLPClassifier(batch_size=10, hidden_layer_sizes=(100, 100, 100),\n",
       "              learning_rate_init=0.01, max_iter=2000, random_state=10)"
      ]
     },
     "execution_count": 23,
     "metadata": {},
     "output_type": "execute_result"
    }
   ],
   "source": [
    "# Fitting the training data\n",
    "model.fit(X_train,y_train)"
   ]
  },
  {
   "cell_type": "code",
   "execution_count": 24,
   "id": "2404f3c0",
   "metadata": {},
   "outputs": [
    {
     "data": {
      "text/plain": [
       "array([[9.03854264e-03, 9.63459230e-01, 2.75022271e-02],\n",
       "       [7.57659673e-03, 9.83177086e-01, 9.24631707e-03],\n",
       "       [9.91894610e-01, 8.10538307e-03, 6.54827242e-09],\n",
       "       ...,\n",
       "       [9.46589195e-01, 5.33750820e-02, 3.57232929e-05],\n",
       "       [9.20973654e-01, 7.88125781e-02, 2.13767815e-04],\n",
       "       [1.44374331e-05, 2.36111942e-03, 9.97624443e-01]])"
      ]
     },
     "execution_count": 24,
     "metadata": {},
     "output_type": "execute_result"
    }
   ],
   "source": [
    "# Predicting the probability\n",
    "mlp_prdict_probability = model.predict_proba(X_test)\n",
    "mlp_prdict_probability"
   ]
  },
  {
   "cell_type": "code",
   "execution_count": 25,
   "id": "4d620aee",
   "metadata": {},
   "outputs": [],
   "source": [
    "# Prediction on test data\n",
    "mlp_test_predict = model.predict(X_test)\n",
    "\n",
    "# Prediction on training data\n",
    "mlp_train_predict = model.predict(X_train)"
   ]
  },
  {
   "cell_type": "markdown",
   "id": "f366a357",
   "metadata": {},
   "source": [
    "### Training accuracy"
   ]
  },
  {
   "cell_type": "code",
   "execution_count": 27,
   "id": "4f0a5e56",
   "metadata": {},
   "outputs": [
    {
     "name": "stdout",
     "output_type": "stream",
     "text": [
      "Training accuracy of MLP model is: 92.7515498330949\n",
      "Classification report of training:\n",
      "               precision    recall  f1-score   support\n",
      "\n",
      "           2       1.00      0.92      0.96       748\n",
      "           3       0.87      0.91      0.89       671\n",
      "           4       0.92      0.95      0.93       678\n",
      "\n",
      "    accuracy                           0.93      2097\n",
      "   macro avg       0.93      0.93      0.93      2097\n",
      "weighted avg       0.93      0.93      0.93      2097\n",
      "\n"
     ]
    }
   ],
   "source": [
    "from sklearn.metrics import accuracy_score,f1_score,recall_score,precision_score,classification_report,confusion_matrix\n",
    "mlp_train_accuracy = accuracy_score(mlp_train_predict,y_train)\n",
    "print(\"Training accuracy of MLP model is:\",mlp_train_accuracy*100)\n",
    "print(\"Classification report of training:\"'\\n',classification_report(mlp_train_predict,y_train))"
   ]
  },
  {
   "cell_type": "markdown",
   "id": "e8f4b3c3",
   "metadata": {},
   "source": [
    "### Testing accuracy"
   ]
  },
  {
   "cell_type": "code",
   "execution_count": 28,
   "id": "96d1c756",
   "metadata": {},
   "outputs": [
    {
     "name": "stdout",
     "output_type": "stream",
     "text": [
      "Testing accuracy of MLP model is: 90.66666666666666\n",
      "Classification report of testing:\n",
      "               precision    recall  f1-score   support\n",
      "\n",
      "           2       0.97      0.90      0.94       198\n",
      "           3       0.82      0.92      0.87       154\n",
      "           4       0.92      0.90      0.91       173\n",
      "\n",
      "    accuracy                           0.91       525\n",
      "   macro avg       0.91      0.91      0.90       525\n",
      "weighted avg       0.91      0.91      0.91       525\n",
      "\n"
     ]
    }
   ],
   "source": [
    "mlp_test_accuracy = accuracy_score(mlp_test_predict,y_test)\n",
    "print(\"Testing accuracy of MLP model is:\",mlp_test_accuracy*100)\n",
    "print(\"Classification report of testing:\"'\\n',classification_report(mlp_test_predict,y_test))"
   ]
  },
  {
   "cell_type": "code",
   "execution_count": 29,
   "id": "53a0621f",
   "metadata": {},
   "outputs": [
    {
     "data": {
      "text/html": [
       "<div>\n",
       "<style scoped>\n",
       "    .dataframe tbody tr th:only-of-type {\n",
       "        vertical-align: middle;\n",
       "    }\n",
       "\n",
       "    .dataframe tbody tr th {\n",
       "        vertical-align: top;\n",
       "    }\n",
       "\n",
       "    .dataframe thead th {\n",
       "        text-align: right;\n",
       "    }\n",
       "</style>\n",
       "<table border=\"1\" class=\"dataframe\">\n",
       "  <thead>\n",
       "    <tr style=\"text-align: right;\">\n",
       "      <th>PerformanceRating</th>\n",
       "      <th>2</th>\n",
       "      <th>3</th>\n",
       "      <th>4</th>\n",
       "    </tr>\n",
       "    <tr>\n",
       "      <th>row_0</th>\n",
       "      <th></th>\n",
       "      <th></th>\n",
       "      <th></th>\n",
       "    </tr>\n",
       "  </thead>\n",
       "  <tbody>\n",
       "    <tr>\n",
       "      <th>2</th>\n",
       "      <td>179</td>\n",
       "      <td>17</td>\n",
       "      <td>2</td>\n",
       "    </tr>\n",
       "    <tr>\n",
       "      <th>3</th>\n",
       "      <td>1</td>\n",
       "      <td>142</td>\n",
       "      <td>11</td>\n",
       "    </tr>\n",
       "    <tr>\n",
       "      <th>4</th>\n",
       "      <td>4</td>\n",
       "      <td>14</td>\n",
       "      <td>155</td>\n",
       "    </tr>\n",
       "  </tbody>\n",
       "</table>\n",
       "</div>"
      ],
      "text/plain": [
       "PerformanceRating    2    3    4\n",
       "row_0                           \n",
       "2                  179   17    2\n",
       "3                    1  142   11\n",
       "4                    4   14  155"
      ]
     },
     "execution_count": 29,
     "metadata": {},
     "output_type": "execute_result"
    }
   ],
   "source": [
    "pd.crosstab(mlp_test_predict,y_test)"
   ]
  },
  {
   "cell_type": "markdown",
   "id": "1a168322",
   "metadata": {},
   "source": [
    "## Observation:\n",
    "-     used algorithms like Logistic Regression, Support Vector Machine, Decision Tree, Random Forest,  K-Nearest Neighbor, XGBoost Classifier and Artificial Neural Network to calculate the accuracy and found out that XGBoost Classifier gives the maximum accuracy of 95%."
   ]
  },
  {
   "cell_type": "markdown",
   "id": "16a80d8e",
   "metadata": {},
   "source": [
    "## Model saving"
   ]
  },
  {
   "cell_type": "code",
   "execution_count": 53,
   "id": "51806f79",
   "metadata": {},
   "outputs": [],
   "source": [
    "# saving model with the help of pickle\n",
    "import pickle\n",
    "\n",
    "file = open('xgb_classifier_model.pkl','wb')\n",
    "pickle.dump(xgb_clf,file)"
   ]
  },
  {
   "cell_type": "code",
   "execution_count": null,
   "id": "86633885",
   "metadata": {},
   "outputs": [],
   "source": []
  }
 ],
 "metadata": {
  "kernelspec": {
   "display_name": "Python 3 (ipykernel)",
   "language": "python",
   "name": "python3"
  },
  "language_info": {
   "codemirror_mode": {
    "name": "ipython",
    "version": 3
   },
   "file_extension": ".py",
   "mimetype": "text/x-python",
   "name": "python",
   "nbconvert_exporter": "python",
   "pygments_lexer": "ipython3",
   "version": "3.9.12"
  }
 },
 "nbformat": 4,
 "nbformat_minor": 5
}
